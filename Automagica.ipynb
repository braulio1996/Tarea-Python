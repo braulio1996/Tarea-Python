{
 "cells": [
  {
   "cell_type": "markdown",
   "metadata": {},
   "source": [
    "# Automagica y Blue Prism\n",
    "\n",
    "1. Automagica\n",
    "\n",
    "    - Automagica es una plataforma de código abierto Smart Robotic Process Automation (SRPA). Con Automagica, automatizar procesos multiplataforma se convierte en una brisa. Con esta biblioteca de código abierto, queremos proporcionar un contenedor completo y consistente alrededor de las bibliotecas de automatización conocidas y menos conocidas.\n",
    "\n",
    "2. Blue Prism\n",
    "    - Es una empresa de desarrollo de software con sede en el Reino Unido en el campo de la automatización de procesos robóticos. El grupo suministra robots de software que ayudan a automatizar procesos administrativos administrativos que funcionan exactamente como un ser humano. La Automatización Robótica de Procesos, que en breve se conoce como (RPA), fue inventada por Blue Prism. Este hecho en sí mismo muestra que la compañía es pionera en el desarrollo de software RPA."
   ]
  },
  {
   "cell_type": "code",
   "execution_count": 43,
   "metadata": {},
   "outputs": [
    {
     "ename": "NameError",
     "evalue": "name 'test_case_path' is not defined",
     "output_type": "error",
     "traceback": [
      "\u001b[1;31m---------------------------------------------------------------------------\u001b[0m",
      "\u001b[1;31mNameError\u001b[0m                                 Traceback (most recent call last)",
      "\u001b[1;32m<ipython-input-43-6b794ffa67c2>\u001b[0m in \u001b[0;36m<module>\u001b[1;34m\u001b[0m\n\u001b[0;32m     14\u001b[0m \u001b[1;33m\u001b[0m\u001b[0m\n\u001b[0;32m     15\u001b[0m \u001b[1;31m##Ejecutar Blue Prism\u001b[0m\u001b[1;33m\u001b[0m\u001b[1;33m\u001b[0m\u001b[1;33m\u001b[0m\u001b[0m\n\u001b[1;32m---> 16\u001b[1;33m \u001b[0mtest_case_path\u001b[0m\u001b[1;33m=\u001b[0m\u001b[0mrun_blueprism_process\u001b[0m\u001b[1;33m(\u001b[0m\u001b[0mprocess_name\u001b[0m\u001b[1;33m,\u001b[0m \u001b[0musername\u001b[0m\u001b[1;33m,\u001b[0m \u001b[0mpassword\u001b[0m\u001b[1;33m,\u001b[0m \u001b[0msso\u001b[0m\u001b[1;33m,\u001b[0m \u001b[0minputs\u001b[0m\u001b[1;33m,\u001b[0m \u001b[0mautomatec_exe_path\u001b[0m\u001b[1;33m)\u001b[0m\u001b[1;33m\u001b[0m\u001b[1;33m\u001b[0m\u001b[0m\n\u001b[0m\u001b[0;32m     17\u001b[0m \u001b[0mprint\u001b[0m\u001b[1;33m(\u001b[0m\u001b[1;34m'Completed Blue Prism process \"{}\"'\u001b[0m\u001b[1;33m.\u001b[0m\u001b[0mformat\u001b[0m\u001b[1;33m(\u001b[0m\u001b[0mtest_case_path\u001b[0m\u001b[1;33m)\u001b[0m\u001b[1;33m)\u001b[0m\u001b[1;33m\u001b[0m\u001b[1;33m\u001b[0m\u001b[0m\n",
      "\u001b[1;32m~\\anaconda3\\lib\\site-packages\\automagica\\utilities.py\u001b[0m in \u001b[0;36mwrapper\u001b[1;34m(*args, **kwargs)\u001b[0m\n\u001b[0;32m     15\u001b[0m         \u001b[0mlogging\u001b[0m\u001b[1;33m.\u001b[0m\u001b[0minfo\u001b[0m\u001b[1;33m(\u001b[0m\u001b[1;34m\"Automagica (activity): {}\"\u001b[0m\u001b[1;33m.\u001b[0m\u001b[0mformat\u001b[0m\u001b[1;33m(\u001b[0m\u001b[0mname\u001b[0m\u001b[1;33m)\u001b[0m\u001b[1;33m)\u001b[0m\u001b[1;33m\u001b[0m\u001b[1;33m\u001b[0m\u001b[0m\n\u001b[0;32m     16\u001b[0m         \u001b[0mtelemetry\u001b[0m\u001b[1;33m(\u001b[0m\u001b[0mfunc\u001b[0m\u001b[1;33m)\u001b[0m\u001b[1;33m\u001b[0m\u001b[1;33m\u001b[0m\u001b[0m\n\u001b[1;32m---> 17\u001b[1;33m         \u001b[1;32mreturn\u001b[0m \u001b[0mfunc\u001b[0m\u001b[1;33m(\u001b[0m\u001b[1;33m*\u001b[0m\u001b[0margs\u001b[0m\u001b[1;33m,\u001b[0m \u001b[1;33m**\u001b[0m\u001b[0mkwargs\u001b[0m\u001b[1;33m)\u001b[0m\u001b[1;33m\u001b[0m\u001b[1;33m\u001b[0m\u001b[0m\n\u001b[0m\u001b[0;32m     18\u001b[0m \u001b[1;33m\u001b[0m\u001b[0m\n\u001b[0;32m     19\u001b[0m     \u001b[1;32mreturn\u001b[0m \u001b[0mwrapper\u001b[0m\u001b[1;33m\u001b[0m\u001b[1;33m\u001b[0m\u001b[0m\n",
      "\u001b[1;32m~\\anaconda3\\lib\\site-packages\\automagica\\activities.py\u001b[0m in \u001b[0;36mrun_blueprism_process\u001b[1;34m(process_name, username, password, sso, inputs, automatec_exe_path)\u001b[0m\n\u001b[0;32m   9301\u001b[0m         \u001b[0mprint\u001b[0m\u001b[1;33m(\u001b[0m\u001b[0merr\u001b[0m\u001b[1;33m)\u001b[0m\u001b[1;33m\u001b[0m\u001b[1;33m\u001b[0m\u001b[0m\n\u001b[0;32m   9302\u001b[0m \u001b[1;33m\u001b[0m\u001b[0m\n\u001b[1;32m-> 9303\u001b[1;33m     \u001b[0mprint\u001b[0m\u001b[1;33m(\u001b[0m\u001b[1;34m'Completed Blue Prism process \"{}\"'\u001b[0m\u001b[1;33m.\u001b[0m\u001b[0mformat\u001b[0m\u001b[1;33m(\u001b[0m\u001b[0mtest_case_path\u001b[0m\u001b[1;33m)\u001b[0m\u001b[1;33m)\u001b[0m\u001b[1;33m\u001b[0m\u001b[1;33m\u001b[0m\u001b[0m\n\u001b[0m\u001b[0;32m   9304\u001b[0m \u001b[1;33m\u001b[0m\u001b[0m\n\u001b[0;32m   9305\u001b[0m \u001b[1;33m\u001b[0m\u001b[0m\n",
      "\u001b[1;31mNameError\u001b[0m: name 'test_case_path' is not defined"
     ]
    }
   ],
   "source": [
    "from automagica import *\n",
    "##nombre del proceso en Blue Prism\n",
    "process_name='prueba.youtube.p'\n",
    "##nombre de usuario de Blue Prism\n",
    "username='admin'\n",
    "##contraseña de Blue Prism\n",
    "password='HappyWorry1234@@'\n",
    "##ejecutar como usuario de inicio de sesión único con Blue Prism\n",
    "sso=False\n",
    "##diccionario con declaraciones de entradas (opcional)\n",
    "inputs=None\n",
    "##ruta de acceso a AutomateC.exe de Blue Prism (opcional)\n",
    "automatec_exe_path='C:\\Program Files\\Blue Prism Limited\\Blue Prism Automate\\AutomateC.exe'\n",
    "\n",
    "##Ejecutar Blue Prism\n",
    "test_case_path=run_blueprism_process(process_name, username, password, sso, inputs, automatec_exe_path)\n",
    "print('Completed Blue Prism process \"{}\"'.format(test_case_path))"
   ]
  },
  {
   "cell_type": "code",
   "execution_count": null,
   "metadata": {},
   "outputs": [],
   "source": []
  }
 ],
 "metadata": {},
 "nbformat": 4,
 "nbformat_minor": 4
}
