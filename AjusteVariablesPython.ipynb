{
 "cells": [
  {
   "cell_type": "markdown",
   "metadata": {},
   "source": [
    "# Probabilidad y Estadística con Python"
   ]
  },
  {
   "cell_type": "markdown",
   "metadata": {},
   "source": [
    "## ¿Qué es la Estadística?\n",
    "\n",
    "La estadística suele ser definida como la ciencia de aprender de los datos o como la ciencia de obtener conclusiones en la presencia de incertidumbre. Se relaciona principalmente con la recolección, análisis e interpretación de datos, así como también con la efectiva comunicación y presentación de los resultados basados en esos datos. Como por datos entendemos a cualquier clase de información grabada, la estadística juego un rol importante en muchas disciplinas científicas.\n",
    "\n",
    "La estadística suele ser dividida en dos grandes ramas:\n",
    "\n",
    "La estadística descriptiva: La cual se dedica a recolectar, ordenar, analizar y representar a un conjunto de datos, con el fin de describir apropiadamente las características de este. Calcula los parámetros estadísticos que describen el conjunto estudiado. Algunas de las herramientas que utiliza son gráficos, medidas de frecuencias, medidas de centralización, medidas de posición, medidas de dispersión, entre otras.\n",
    "\n",
    "La estadistica inferencial: La cual estudia cómo sacar conclusiones generales para toda la población a partir del estudio de una muestra, y el grado de fiabilidad o significación de los resultados obtenidos. Sus principales herramientas son el muestreo, la estimación de parámetros y el contraste de hipótesis."
   ]
  },
  {
   "cell_type": "markdown",
   "metadata": {},
   "source": [
    "## Conceptos básicos de la estadística descriptiva\n",
    "\n",
    "En *[estadística descriptiva](https://es.wikipedia.org/wiki/Estad%C3%ADstica_descriptiva)* se utilizan distintas medidas para intentar describir las propiedades de nuestros datos, algunos de los conceptos básicos, son:\n",
    "\n",
    "* **Media aritmética**: La [media aritmética](https://es.wikipedia.org/wiki/Media_aritm%C3%A9tica) es el valor obtenido al sumar todos los *[datos](https://es.wikipedia.org/wiki/Dato)* y dividir el resultado entre el número total elementos. Se suele representar con la letra griega $\\mu$. Si tenemos una [muestra](https://es.wikipedia.org/wiki/Muestra_estad%C3%ADstica) de $n$ valores, $x_i$, la *media aritmética*, $\\mu$, es la suma de los valores divididos por el numero de elementos; en otras palabras:\n",
    "$$\\mu = \\frac{1}{n} \\sum_{i}x_i$$\n",
    "\n",
    "\n",
    "* **Desviación respecto a la media**: La desviación respecto a la media es la diferencia en valor absoluto entre cada valor de la variable estadística y la media aritmética.\n",
    "$$D_i = |x_i - \\mu|$$\n",
    "\n",
    "\n",
    "* **Varianza**: La [varianza](https://es.wikipedia.org/wiki/Varianza) es la media aritmética del cuadrado de las desviaciones respecto a la media de una distribución estadística. La varianza intenta describir la dispersión de los *[datos](https://es.wikipedia.org/wiki/Dato)*. Se representa como $\\sigma^2$. \n",
    "$$\\sigma^2 = \\frac{\\sum\\limits_{i=1}^n(x_i - \\mu)^2}{n} $$\n",
    "\n",
    "\n",
    "* **Desviación típica**: La [desviación típica](https://es.wikipedia.org/wiki/Desviaci%C3%B3n_t%C3%ADpica) es la raíz cuadrada de la varianza. Se representa con la letra griega $\\sigma$.\n",
    "$$\\sigma = \\sqrt{\\frac{\\sum\\limits_{i=1}^n(x_i - \\mu)^2}{n}} $$\n",
    "\n",
    "\n",
    "* **Moda**: La <a href=\"https://es.wikipedia.org/wiki/Moda_(estad%C3%ADstica)\">moda</a> es el valor que tiene mayor frecuencia absoluta. Se representa con $M_0$\n",
    "\n",
    "\n",
    "* **Mediana**: La <a href=\"https://es.wikipedia.org/wiki/Mediana_(estad%C3%ADstica)\">mediana</a> es el valor que ocupa el lugar central de todos los datos cuando éstos están ordenados de menor a mayor. Se representa con $\\widetilde{x}$.\n",
    "\n"
   ]
  },
  {
   "cell_type": "markdown",
   "metadata": {},
   "source": [
    "### Ejemplos en Python\n",
    "\n",
    "Calcular los principales indicadores de la *[estadística descriptiva](https://es.wikipedia.org/wiki/Estad%C3%ADstica_descriptiva)* con [Python](http://python.org/) es muy fácil!."
   ]
  },
  {
   "cell_type": "code",
   "execution_count": 1,
   "metadata": {},
   "outputs": [],
   "source": [
    "# Ejemplos de estadistica descriptiva con python\n",
    "\n",
    "import numpy as np # importando numpy\n",
    "from scipy import stats # importando scipy.stats\n",
    "import pandas as pd # importando pandas\n",
    "\n",
    "np.random.seed(2131982) # para poder replicar el random"
   ]
  },
  {
   "cell_type": "code",
   "execution_count": 2,
   "metadata": {},
   "outputs": [
    {
     "data": {
      "text/plain": [
       "array([[ 0.46038022, -1.08942528, -0.62681496, -0.63329028],\n",
       "       [-0.1074033 , -0.88138082, -0.34466623, -0.28320214],\n",
       "       [ 0.94051171,  0.86693793,  1.20947882, -0.16894118],\n",
       "       [-0.12790177, -0.58099931, -0.46188426, -0.18148302],\n",
       "       [-0.76959435, -1.37414587,  1.37696874, -0.18040537]])"
      ]
     },
     "execution_count": 2,
     "metadata": {},
     "output_type": "execute_result"
    }
   ],
   "source": [
    "datos = np.random.randn(5, 4) # datos normalmente distribuidos\n",
    "datos"
   ]
  },
  {
   "cell_type": "code",
   "execution_count": 3,
   "metadata": {},
   "outputs": [
    {
     "data": {
      "text/plain": [
       "-0.14786303590303568"
      ]
     },
     "execution_count": 3,
     "metadata": {},
     "output_type": "execute_result"
    }
   ],
   "source": [
    "# media arítmetica\n",
    "datos.mean() # Calcula la media aritmetica de"
   ]
  },
  {
   "cell_type": "code",
   "execution_count": 4,
   "metadata": {},
   "outputs": [
    {
     "data": {
      "text/plain": [
       "-0.14786303590303568"
      ]
     },
     "execution_count": 4,
     "metadata": {},
     "output_type": "execute_result"
    }
   ],
   "source": [
    "np.mean(datos) # Mismo resultado desde la funcion de numpy"
   ]
  },
  {
   "cell_type": "code",
   "execution_count": 5,
   "metadata": {},
   "outputs": [
    {
     "data": {
      "text/plain": [
       "array([-0.47228757, -0.40416312,  0.71199682, -0.33806709, -0.23679421])"
      ]
     },
     "execution_count": 5,
     "metadata": {},
     "output_type": "execute_result"
    }
   ],
   "source": [
    "datos.mean(axis=1) # media aritmetica de cada fila"
   ]
  },
  {
   "cell_type": "code",
   "execution_count": 6,
   "metadata": {},
   "outputs": [
    {
     "data": {
      "text/plain": [
       "array([ 0.0791985 , -0.61180267,  0.23061642, -0.2894644 ])"
      ]
     },
     "execution_count": 6,
     "metadata": {},
     "output_type": "execute_result"
    }
   ],
   "source": [
    "datos.mean(axis=0) # media aritmetica de cada columna"
   ]
  },
  {
   "cell_type": "code",
   "execution_count": 7,
   "metadata": {},
   "outputs": [
    {
     "data": {
      "text/plain": [
       "-0.23234258265023794"
      ]
     },
     "execution_count": 7,
     "metadata": {},
     "output_type": "execute_result"
    }
   ],
   "source": [
    "# mediana\n",
    "np.median(datos) "
   ]
  },
  {
   "cell_type": "code",
   "execution_count": 8,
   "metadata": {},
   "outputs": [
    {
     "data": {
      "text/plain": [
       "array([-0.1074033 , -0.88138082, -0.34466623, -0.18148302])"
      ]
     },
     "execution_count": 8,
     "metadata": {},
     "output_type": "execute_result"
    }
   ],
   "source": [
    "np.median(datos, 0) # media aritmetica de cada columna"
   ]
  },
  {
   "cell_type": "code",
   "execution_count": 9,
   "metadata": {},
   "outputs": [
    {
     "data": {
      "text/plain": [
       "0.73755354584071608"
      ]
     },
     "execution_count": 9,
     "metadata": {},
     "output_type": "execute_result"
    }
   ],
   "source": [
    " # Desviación típica\n",
    "np.std(datos)"
   ]
  },
  {
   "cell_type": "code",
   "execution_count": 10,
   "metadata": {},
   "outputs": [
    {
     "data": {
      "text/plain": [
       "array([ 0.58057213,  0.78352862,  0.87384108,  0.17682485])"
      ]
     },
     "execution_count": 10,
     "metadata": {},
     "output_type": "execute_result"
    }
   ],
   "source": [
    "np.std(datos, 0) # Desviación típica de cada columna"
   ]
  },
  {
   "cell_type": "code",
   "execution_count": 11,
   "metadata": {},
   "outputs": [
    {
     "data": {
      "text/plain": [
       "0.54398523298221324"
      ]
     },
     "execution_count": 11,
     "metadata": {},
     "output_type": "execute_result"
    }
   ],
   "source": [
    "# varianza\n",
    "np.var(datos) "
   ]
  },
  {
   "cell_type": "code",
   "execution_count": 12,
   "metadata": {},
   "outputs": [
    {
     "data": {
      "text/plain": [
       "array([ 0.337064  ,  0.6139171 ,  0.76359823,  0.03126703])"
      ]
     },
     "execution_count": 12,
     "metadata": {},
     "output_type": "execute_result"
    }
   ],
   "source": [
    "np.var(datos, 0) # varianza de cada columna"
   ]
  },
  {
   "cell_type": "code",
   "execution_count": 13,
   "metadata": {},
   "outputs": [
    {
     "data": {
      "text/plain": [
       "(array([[-0.76959435, -1.37414587, -0.62681496, -0.63329028]]),\n",
       " array([[ 1.,  1.,  1.,  1.]]))"
      ]
     },
     "execution_count": 13,
     "metadata": {},
     "output_type": "execute_result"
    }
   ],
   "source": [
    "# moda\n",
    "stats.mode(datos) # Calcula la moda de cada columna\n",
    "# el 2do array devuelve la frecuencia."
   ]
  },
  {
   "cell_type": "code",
   "execution_count": 4,
   "metadata": {},
   "outputs": [
    {
     "data": {
      "text/plain": [
       "ModeResult(mode=array([6]), count=array([5]))"
      ]
     },
     "execution_count": 4,
     "metadata": {},
     "output_type": "execute_result"
    }
   ],
   "source": [
    "datos2 = np.array([1, 2, 3, 6, 6, 1, 2, 4, 2, 2, 6, 6, 8, 10, 6])\n",
    "stats.mode(datos2) # aqui la moda es el 6 porque aparece 5 veces en el vector."
   ]
  },
  {
   "cell_type": "markdown",
   "metadata": {},
   "source": [
    "## Practica :\n",
    "Generar un modelo que me permita simular el uso de recursos de los hospitales por cada una de las provincias, para ello obtener la informacion revisada en la practica de investigacion y tomar como ejemplo la practica de simulacion de atencion de paciente del COVID revisada en clase. Lo que se busca es poder generar graficos de uso de recursos:\n",
    "\n",
    "- Costos (Generar un aproximacion de cuanto se invierte para atender a un paciente con COVID)\n",
    "200\n",
    "- Personal (Aproximacion del uso del personal por paciente, o el hospital)\n",
    "- Camas\n",
    "567\n",
    "- Equipos/Insumos medicos (Obtener una aproximacion del uso de equipos medicos)\n",
    "\n",
    "- Pacientes (Informacion obtenida desde el ministerio de salud - validar con el porcentual del tipo de paciente [ninio 10%, adulto 30%, riesgo 60%]) - Hospitalizacion 80%, Otros 20%\n",
    "\n",
    "\n",
    "Para ello deberan generar un modelo lo mas cercano a la realidad, y con ayuda de la estadistica descriptiva ajustar los valores. Es importante tener como datos de entrada el dia y el numero de pacientes.\n",
    "\n",
    "Finalmente validar el modelo con lo la realidad del pais (Investigar en  base al tema el uso de los recursos publicos )\n"
   ]
  },
  {
   "cell_type": "code",
   "execution_count": 79,
   "metadata": {},
   "outputs": [
    {
     "name": "stdout",
     "output_type": "stream",
     "text": [
      "Hospital\n",
      "\u001b[0;30mLlega: Paciente-1 a la hora 7.00.\n",
      "\u001b[0;30mLlega: Paciente-2 a la hora 7.00.\n",
      "\u001b[0;30mLlega: Paciente-3 a la hora 7.00.\n",
      "\u001b[0;30mLlega: Paciente-4 a la hora 7.00.\n",
      "\u001b[0;30mLlega: Paciente-5 a la hora 7.00.\n",
      "\u001b[0;30mEntra paciente a atenderce: Paciente-1 a la hora 7.00.\n",
      "\u001b[0;30mEntra paciente a atenderce: Paciente-2 a la hora 7.00.\n",
      "\u001b[0;30mEntra paciente a atenderce: Paciente-3 a la hora 7.00.\n",
      "\u001b[0;30mEntra paciente a atenderce: Paciente-4 a la hora 7.00.\n",
      "\u001b[0;30mEntra paciente a atenderce: Paciente-5 a la hora 7.00.\n",
      "\u001b[0;30mLlega: Paciente-6 a la hora 7.02.\n",
      "\u001b[0;30mEntra paciente a atenderce: Paciente-6 a la hora 7.02.\n",
      "\u001b[0;30mLlega: Paciente-7 a la hora 7.05.\n",
      "\u001b[0;30mEntra paciente a atenderce: Paciente-7 a la hora 7.05.\n",
      "\u001b[0;30mLlega: Paciente-8 a la hora 7.13.\n",
      "\u001b[0;30mEntra paciente a atenderce: Paciente-8 a la hora 7.13.\n",
      "\u001b[0;30mLlega: Paciente-9 a la hora 7.23.\n",
      "\u001b[0;30mEntra paciente a atenderce: Paciente-9 a la hora 7.23.\n",
      "\u001b[0;30mPaciente-2  Atendido\n",
      "El costo de la Prueba es de: 100\n",
      "\u001b[0;30mPaciente-4  Atendido\n",
      "El costo de la Prueba es de: 200\n",
      "\u001b[0;32mPaciente Sano [Paciente-2] Atendido a las 7.25. Casa\n",
      "\u001b[0;31mPaciente Infectado [Paciente-4] Atendido a las 7.25. Internado\n",
      "\u001b[0;34mse le asigna a una cama: Paciente-4 a la hora 7.25.\n",
      "\u001b[0;34mCAMAS DISPONIBLES 566\n",
      "\u001b[0;30mPaciente-5  Atendido\n",
      "El costo de la Prueba es de: 100\n",
      "\u001b[0;30mLlega: Paciente-10 a la hora 7.28.\n",
      "\u001b[0;31mPaciente Infectado [Paciente-5] Atendido a las 7.28. Internado\n",
      "\u001b[0;30mEntra paciente a atenderce: Paciente-10 a la hora 7.28.\n",
      "\u001b[0;34mse le asigna a una cama: Paciente-5 a la hora 7.28.\n",
      "\u001b[0;34mCAMAS DISPONIBLES 565\n",
      "\u001b[0;30mPaciente-1  Atendido\n",
      "El costo de la Prueba es de: 100\n",
      "\u001b[0;30mPaciente-3  Atendido\n",
      "El costo de la Prueba es de: 200\n",
      "\u001b[0;30mPaciente-7  Atendido\n",
      "El costo de la Prueba es de: 100\n",
      "\u001b[0;31mPaciente Infectado [Paciente-1] Atendido a las 7.30. Internado\n",
      "\u001b[0;32mPaciente Sano [Paciente-3] Atendido a las 7.30. Casa\n",
      "\u001b[0;31mPaciente Infectado [Paciente-7] Atendido a las 7.30. Internado\n",
      "\u001b[0;34mse le asigna a una cama: Paciente-1 a la hora 7.30.\n",
      "\u001b[0;34mCAMAS DISPONIBLES 564\n",
      "\u001b[0;34mse le asigna a una cama: Paciente-7 a la hora 7.30.\n",
      "\u001b[0;34mCAMAS DISPONIBLES 563\n",
      "\u001b[0;30mPaciente-6  Atendido\n",
      "El costo de la Prueba es de: 200\n",
      "\u001b[0;32mPaciente Sano [Paciente-6] Atendido a las 7.32. Casa\n",
      "\u001b[0;30mPaciente-8  Atendido\n",
      "El costo de la Prueba es de: 100\n",
      "\u001b[0;30mLlega: Paciente-11 a la hora 7.38.\n",
      "\u001b[0;32mPaciente Sano [Paciente-8] Atendido a las 7.38. Casa\n",
      "\u001b[0;30mEntra paciente a atenderce: Paciente-11 a la hora 7.38.\n",
      "\u001b[0;30mLlega: Paciente-12 a la hora 7.43.\n",
      "\u001b[0;30mLlega: Paciente-13 a la hora 7.43.\n",
      "\u001b[0;30mEntra paciente a atenderce: Paciente-12 a la hora 7.43.\n",
      "\u001b[0;30mEntra paciente a atenderce: Paciente-13 a la hora 7.43.\n",
      "\u001b[0;30mPaciente-9  Atendido\n",
      "El costo de la Prueba es de: 100\n",
      "\u001b[0;32mPaciente Sano [Paciente-9] Atendido a las 7.50. Casa\n",
      "\u001b[0;30mLlega: Paciente-14 a la hora 7.52.\n",
      "\u001b[0;30mLlega: Paciente-15 a la hora 7.52.\n",
      "\u001b[0;30mEntra paciente a atenderce: Paciente-14 a la hora 7.52.\n",
      "\u001b[0;30mEntra paciente a atenderce: Paciente-15 a la hora 7.52.\n",
      "\u001b[0;30mLlega: Paciente-16 a la hora 7.53.\n",
      "\u001b[0;30mEntra paciente a atenderce: Paciente-16 a la hora 7.53.\n",
      "\u001b[0;30mLlega: Paciente-17 a la hora 7.55.\n",
      "\u001b[0;30mEntra paciente a atenderce: Paciente-17 a la hora 7.55.\n",
      "\u001b[0;30mPaciente-10  Atendido\n",
      "El costo de la Prueba es de: 100\n",
      "\u001b[0;32mPaciente Sano [Paciente-10] Atendido a las 7.60. Casa\n",
      "\u001b[0;30mLlega: Paciente-18 a la hora 7.63.\n",
      "\u001b[0;30mLlega: Paciente-19 a la hora 7.63.\n",
      "\u001b[0;30mEntra paciente a atenderce: Paciente-18 a la hora 7.63.\n",
      "\u001b[0;30mEntra paciente a atenderce: Paciente-19 a la hora 7.63.\n",
      "\u001b[0;30mPaciente-11  Atendido\n",
      "El costo de la Prueba es de: 100\n",
      "\u001b[0;32mPaciente Sano [Paciente-11] Atendido a las 7.67. Casa\n",
      "\u001b[0;30mLlega: Paciente-20 a la hora 7.68.\n",
      "\u001b[0;30mEntra paciente a atenderce: Paciente-20 a la hora 7.68.\n",
      "\u001b[0;30mPaciente-12  Atendido\n",
      "El costo de la Prueba es de: 200\n",
      "\u001b[0;31mPaciente Infectado [Paciente-12] Atendido a las 7.70. Internado\n",
      "\u001b[0;34mse le asigna a una cama: Paciente-12 a la hora 7.70.\n",
      "\u001b[0;34mCAMAS DISPONIBLES 562\n",
      "\u001b[0;30mPaciente-13  Atendido\n",
      "El costo de la Prueba es de: 100\n",
      "\u001b[0;30mLlega: Paciente-21 a la hora 7.75.\n",
      "\u001b[0;31mPaciente Infectado [Paciente-13] Atendido a las 7.75. Internado\n",
      "\u001b[0;30mEntra paciente a atenderce: Paciente-21 a la hora 7.75.\n",
      "\u001b[0;34mse le asigna a una cama: Paciente-13 a la hora 7.75.\n",
      "\u001b[0;34mCAMAS DISPONIBLES 561\n",
      "\u001b[0;30mPaciente-14  Atendido\n",
      "El costo de la Prueba es de: 100\n",
      "\u001b[0;30mPaciente-15  Atendido\n",
      "El costo de la Prueba es de: 100\n",
      "\u001b[0;32mPaciente Sano [Paciente-14] Atendido a las 7.78. Casa\n",
      "\u001b[0;32mPaciente Sano [Paciente-15] Atendido a las 7.78. Casa\n",
      "\u001b[0;30mPaciente-16  Atendido\n",
      "El costo de la Prueba es de: 200\n",
      "\u001b[0;31mPaciente Infectado [Paciente-16] Atendido a las 7.83. Internado\n",
      "\u001b[0;34mse le asigna a una cama: Paciente-16 a la hora 7.83.\n",
      "\u001b[0;34mCAMAS DISPONIBLES 560\n",
      "\u001b[0;30mPaciente-17  Atendido\n",
      "El costo de la Prueba es de: 200\n",
      "\u001b[0;30mLlega: Paciente-22 a la hora 7.85.\n",
      "\u001b[0;32mPaciente Sano [Paciente-17] Atendido a las 7.85. Casa\n",
      "\u001b[0;30mEntra paciente a atenderce: Paciente-22 a la hora 7.85.\n",
      "\u001b[0;30mPaciente-18  Atendido\n",
      "El costo de la Prueba es de: 200\n",
      "\u001b[0;30mPaciente-19  Atendido\n",
      "El costo de la Prueba es de: 100\n",
      "\u001b[0;30mLlega: Paciente-23 a la hora 7.92.\n",
      "\u001b[0;32mPaciente Sano [Paciente-18] Atendido a las 7.92. Casa\n",
      "\u001b[0;31mPaciente Infectado [Paciente-19] Atendido a las 7.92. Internado\n",
      "\u001b[0;30mLlega: Paciente-24 a la hora 7.92.\n",
      "\u001b[0;30mEntra paciente a atenderce: Paciente-23 a la hora 7.92.\n",
      "\u001b[0;34mse le asigna a una cama: Paciente-19 a la hora 7.92.\n",
      "\u001b[0;34mCAMAS DISPONIBLES 559\n",
      "\u001b[0;30mEntra paciente a atenderce: Paciente-24 a la hora 7.92.\n",
      "\u001b[0;30mLlega: Paciente-25 a la hora 7.95.\n",
      "\u001b[0;30mEntra paciente a atenderce: Paciente-25 a la hora 7.95.\n",
      "\u001b[0;30mPaciente-20  Atendido\n",
      "El costo de la Prueba es de: 100\n",
      "\u001b[0;32mPaciente Sano [Paciente-20] Atendido a las 7.98. Casa\n",
      "\u001b[0;30mPaciente-21  Atendido\n",
      "El costo de la Prueba es de: 200\n",
      "\u001b[0;30mLlega: Paciente-26 a la hora 8.05.\n",
      "\u001b[0;31mPaciente Infectado [Paciente-21] Atendido a las 8.05. Internado\n",
      "\u001b[0;30mEntra paciente a atenderce: Paciente-26 a la hora 8.05.\n",
      "\u001b[0;34mse le asigna a una cama: Paciente-21 a la hora 8.05.\n",
      "\u001b[0;34mCAMAS DISPONIBLES 558\n",
      "\u001b[0;30mPaciente-22  Atendido\n",
      "El costo de la Prueba es de: 100\n",
      "\u001b[0;30mLlega: Paciente-27 a la hora 8.15.\n",
      "\u001b[0;31mPaciente Infectado [Paciente-22] Atendido a las 8.15. Internado\n",
      "\u001b[0;30mEntra paciente a atenderce: Paciente-27 a la hora 8.15.\n",
      "\u001b[0;34mse le asigna a una cama: Paciente-22 a la hora 8.15.\n",
      "\u001b[0;34mCAMAS DISPONIBLES 557\n",
      "\u001b[0;30mPaciente-24  Atendido\n",
      "El costo de la Prueba es de: 200\n",
      "\u001b[0;32mPaciente Sano [Paciente-24] Atendido a las 8.18. Casa\n",
      "\u001b[0;30mPaciente-23  Atendido\n",
      "El costo de la Prueba es de: 200\n",
      "\u001b[0;30mPaciente-25  Atendido\n",
      "El costo de la Prueba es de: 200\n",
      "\u001b[0;32mPaciente Sano [Paciente-23] Atendido a las 8.22. Casa\n",
      "\u001b[0;32mPaciente Sano [Paciente-25] Atendido a las 8.22. Casa\n",
      "\u001b[0;30mLlega: Paciente-28 a la hora 8.23.\n",
      "\u001b[0;30mEntra paciente a atenderce: Paciente-28 a la hora 8.23.\n",
      "\u001b[0;30mLlega: Paciente-29 a la hora 8.33.\n",
      "\u001b[0;30mEntra paciente a atenderce: Paciente-29 a la hora 8.33.\n",
      "\u001b[0;30mPaciente-26  Atendido\n",
      "El costo de la Prueba es de: 200\n",
      "\u001b[0;32mPaciente Sano [Paciente-26] Atendido a las 8.37. Casa\n",
      "\u001b[0;30mLlega: Paciente-30 a la hora 8.40.\n",
      "\u001b[0;30mEntra paciente a atenderce: Paciente-30 a la hora 8.40.\n",
      "\u001b[0;30mLlega: Paciente-31 a la hora 8.43.\n",
      "\u001b[0;30mEntra paciente a atenderce: Paciente-31 a la hora 8.43.\n",
      "\u001b[0;30mPaciente-27  Atendido\n",
      "El costo de la Prueba es de: 200\n",
      "\u001b[0;31mPaciente Infectado [Paciente-27] Atendido a las 8.45. Internado\n",
      "\u001b[0;34mse le asigna a una cama: Paciente-27 a la hora 8.45.\n",
      "\u001b[0;34mCAMAS DISPONIBLES 556\n",
      "\u001b[0;30mLlega: Paciente-32 a la hora 8.53.\n",
      "\u001b[0;30mEntra paciente a atenderce: Paciente-32 a la hora 8.53.\n",
      "\u001b[0;30mPaciente-28  Atendido\n",
      "El costo de la Prueba es de: 200\n",
      "\u001b[0;32mPaciente Sano [Paciente-28] Atendido a las 8.55. Casa\n",
      "\u001b[0;30mPaciente-29  Atendido\n",
      "El costo de la Prueba es de: 100\n",
      "\u001b[0;30mLlega: Paciente-33 a la hora 8.63.\n",
      "\u001b[0;31mPaciente Infectado [Paciente-29] Atendido a las 8.63. Internado\n",
      "\u001b[0;30mEntra paciente a atenderce: Paciente-33 a la hora 8.63.\n",
      "\u001b[0;34mse le asigna a una cama: Paciente-29 a la hora 8.63.\n",
      "\u001b[0;34mCAMAS DISPONIBLES 555\n",
      "\u001b[0;30mPaciente-30  Atendido\n",
      "El costo de la Prueba es de: 100\n",
      "\u001b[0;32mPaciente Sano [Paciente-30] Atendido a las 8.65. Casa\n",
      "\u001b[0;30mLlega: Paciente-34 a la hora 8.67.\n",
      "\u001b[0;30mEntra paciente a atenderce: Paciente-34 a la hora 8.67.\n",
      "\u001b[0;30mPaciente-31  Atendido\n",
      "El costo de la Prueba es de: 200\n",
      "\u001b[0;31mPaciente Infectado [Paciente-31] Atendido a las 8.70. Internado\n",
      "\u001b[0;34mse le asigna a una cama: Paciente-31 a la hora 8.70.\n",
      "\u001b[0;34mCAMAS DISPONIBLES 554\n",
      "\u001b[0;30mLlega: Paciente-35 a la hora 8.77.\n",
      "\u001b[0;30mEntra paciente a atenderce: Paciente-35 a la hora 8.77.\n",
      "\u001b[0;30mPaciente-32  Atendido\n",
      "El costo de la Prueba es de: 100\n",
      "\u001b[0;32mPaciente Sano [Paciente-32] Atendido a las 8.80. Casa\n",
      "\u001b[0;30mLlega: Paciente-36 a la hora 8.85.\n",
      "\u001b[0;30mEntra paciente a atenderce: Paciente-36 a la hora 8.85.\n",
      "\u001b[0;30mLlega: Paciente-37 a la hora 8.88.\n",
      "\u001b[0;30mEntra paciente a atenderce: Paciente-37 a la hora 8.88.\n",
      "\u001b[0;30mPaciente-33  Atendido\n",
      "El costo de la Prueba es de: 200\n",
      "\u001b[0;32mPaciente Sano [Paciente-33] Atendido a las 8.90. Casa\n",
      "\u001b[0;30mPaciente-34  Atendido\n",
      "El costo de la Prueba es de: 200\n",
      "\u001b[0;32mPaciente Sano [Paciente-34] Atendido a las 8.93. Casa\n",
      "\u001b[0;30mLlega: Paciente-38 a la hora 8.95.\n",
      "\u001b[0;30mEntra paciente a atenderce: Paciente-38 a la hora 8.95.\n",
      "\u001b[0;30mPaciente-35  Atendido\n",
      "El costo de la Prueba es de: 100\n",
      "\u001b[0;32mPaciente Sano [Paciente-35] Atendido a las 9.02. Casa\n",
      "\u001b[0;30mLlega: Paciente-39 a la hora 9.05.\n",
      "\u001b[0;30mEntra paciente a atenderce: Paciente-39 a la hora 9.05.\n",
      "\u001b[0;30mLlega: Paciente-40 a la hora 9.07.\n",
      "\u001b[0;30mEntra paciente a atenderce: Paciente-40 a la hora 9.07.\n",
      "\u001b[0;30mPaciente-37  Atendido\n",
      "El costo de la Prueba es de: 100\n",
      "\u001b[0;32mPaciente Sano [Paciente-37] Atendido a las 9.13. Casa\n",
      "\u001b[0;30mLlega: Paciente-41 a la hora 9.15.\n",
      "\u001b[0;30mEntra paciente a atenderce: Paciente-41 a la hora 9.15.\n",
      "\u001b[0;30mPaciente-36  Atendido\n",
      "El costo de la Prueba es de: 200\n",
      "\u001b[0;32mPaciente Sano [Paciente-36] Atendido a las 9.17. Casa\n",
      "\u001b[0;30mLlega: Paciente-42 a la hora 9.25.\n",
      "\u001b[0;30mEntra paciente a atenderce: Paciente-42 a la hora 9.25.\n",
      "\u001b[0;30mPaciente-38  Atendido\n",
      "El costo de la Prueba es de: 200\n",
      "\u001b[0;31mPaciente Infectado [Paciente-38] Atendido a las 9.27. Internado\n",
      "\u001b[0;34mse le asigna a una cama: Paciente-38 a la hora 9.27.\n",
      "\u001b[0;34mCAMAS DISPONIBLES 553\n",
      "\u001b[0;30mLlega: Paciente-43 a la hora 9.28.\n",
      "\u001b[0;30mEntra paciente a atenderce: Paciente-43 a la hora 9.28.\n",
      "\u001b[0;30mPaciente-40  Atendido\n",
      "El costo de la Prueba es de: 100\n",
      "\u001b[0;32mPaciente Sano [Paciente-40] Atendido a las 9.32. Casa\n",
      "\u001b[0;30mLlega: Paciente-44 a la hora 9.33.\n",
      "\u001b[0;30mEntra paciente a atenderce: Paciente-44 a la hora 9.33.\n",
      "\u001b[0;30mPaciente-39  Atendido\n",
      "El costo de la Prueba es de: 200\n",
      "\u001b[0;31mPaciente Infectado [Paciente-39] Atendido a las 9.35. Internado\n",
      "\u001b[0;34mse le asigna a una cama: Paciente-39 a la hora 9.35.\n",
      "\u001b[0;34mCAMAS DISPONIBLES 552\n",
      "\u001b[0;30mPaciente-41  Atendido\n",
      "El costo de la Prueba es de: 200\n",
      "\u001b[0;30mLlega: Paciente-45 a la hora 9.43.\n",
      "\u001b[0;31mPaciente Infectado [Paciente-41] Atendido a las 9.43. Internado\n",
      "\u001b[0;30mLlega: Paciente-46 a la hora 9.43.\n",
      "\u001b[0;30mEntra paciente a atenderce: Paciente-45 a la hora 9.43.\n",
      "\u001b[0;34mse le asigna a una cama: Paciente-41 a la hora 9.43.\n",
      "\u001b[0;34mCAMAS DISPONIBLES 551\n",
      "\u001b[0;30mEntra paciente a atenderce: Paciente-46 a la hora 9.43.\n",
      "\u001b[0;30mLlega: Paciente-47 a la hora 9.52.\n",
      "\u001b[0;30mEntra paciente a atenderce: Paciente-47 a la hora 9.52.\n",
      "\u001b[0;30mPaciente-42  Atendido\n",
      "El costo de la Prueba es de: 200\n",
      "\u001b[0;30mPaciente-43  Atendido\n",
      "El costo de la Prueba es de: 100\n",
      "\u001b[0;32mPaciente Sano [Paciente-42] Atendido a las 9.53. Casa\n",
      "\u001b[0;32mPaciente Sano [Paciente-43] Atendido a las 9.53. Casa\n",
      "\u001b[0;30mLlega: Paciente-48 a la hora 9.55.\n",
      "\u001b[0;30mEntra paciente a atenderce: Paciente-48 a la hora 9.55.\n",
      "\u001b[0;30mPaciente-44  Atendido\n",
      "El costo de la Prueba es de: 200\n",
      "\u001b[0;31mPaciente Infectado [Paciente-44] Atendido a las 9.60. Internado\n",
      "\u001b[0;34mse le asigna a una cama: Paciente-44 a la hora 9.60.\n",
      "\u001b[0;34mCAMAS DISPONIBLES 550\n",
      "\u001b[0;30mLlega: Paciente-49 a la hora 9.65.\n",
      "\u001b[0;30mEntra paciente a atenderce: Paciente-49 a la hora 9.65.\n",
      "\u001b[0;30mPaciente-45  Atendido\n",
      "El costo de la Prueba es de: 100\n",
      "\u001b[0;30mPaciente-46  Atendido\n",
      "El costo de la Prueba es de: 200\n",
      "\u001b[0;30mLlega: Paciente-50 a la hora 9.75.\n",
      "\u001b[0;32mPaciente Sano [Paciente-45] Atendido a las 9.75. Casa\n",
      "\u001b[0;31mPaciente Infectado [Paciente-46] Atendido a las 9.75. Internado\n",
      "\u001b[0;30mEntra paciente a atenderce: Paciente-50 a la hora 9.75.\n",
      "\u001b[0;34mse le asigna a una cama: Paciente-46 a la hora 9.75.\n",
      "\u001b[0;34mCAMAS DISPONIBLES 549\n",
      "\u001b[0;30mLlega: Paciente-51 a la hora 9.80.\n",
      "\u001b[0;30mEntra paciente a atenderce: Paciente-51 a la hora 9.80.\n",
      "\u001b[0;30mPaciente-47  Atendido\n",
      "El costo de la Prueba es de: 200\n",
      "\u001b[0;32mPaciente Sano [Paciente-47] Atendido a las 9.82. Casa\n",
      "\u001b[0;30mPaciente-48  Atendido\n",
      "El costo de la Prueba es de: 200\n",
      "\u001b[0;32mPaciente Sano [Paciente-48] Atendido a las 9.87. Casa\n",
      "\u001b[0;30mLlega: Paciente-52 a la hora 9.90.\n",
      "\u001b[0;30mEntra paciente a atenderce: Paciente-52 a la hora 9.90.\n",
      "\u001b[0;30mPaciente-49  Atendido\n",
      "El costo de la Prueba es de: 100\n",
      "\u001b[0;30mLlega: Paciente-53 a la hora 9.92.\n",
      "\u001b[0;32mPaciente Sano [Paciente-49] Atendido a las 9.92. Casa\n",
      "\u001b[0;30mEntra paciente a atenderce: Paciente-53 a la hora 9.92.\n",
      "\u001b[0;30mLlega: Paciente-54 a la hora 10.00.\n",
      "\u001b[0;30mEntra paciente a atenderce: Paciente-54 a la hora 10.00.\n",
      "\u001b[0;30mLlega: Paciente-55 a la hora 10.02.\n",
      "\u001b[0;30mLlega: Paciente-56 a la hora 10.02.\n",
      "\u001b[0;30mEntra paciente a atenderce: Paciente-55 a la hora 10.02.\n",
      "\u001b[0;30mLlega: Paciente-57 a la hora 10.02.\n",
      "\u001b[0;30mEntra paciente a atenderce: Paciente-56 a la hora 10.02.\n",
      "\u001b[0;30mEntra paciente a atenderce: Paciente-57 a la hora 10.02.\n",
      "\u001b[0;30mLlega: Paciente-58 a la hora 10.03.\n",
      "\u001b[0;30mEntra paciente a atenderce: Paciente-58 a la hora 10.03.\n",
      "\u001b[0;30mPaciente-50  Atendido\n",
      "El costo de la Prueba es de: 200\n",
      "\u001b[0;32mPaciente Sano [Paciente-50] Atendido a las 10.07. Casa\n",
      "\u001b[0;30mPaciente-51  Atendido\n",
      "El costo de la Prueba es de: 200\n",
      "\u001b[0;32mPaciente Sano [Paciente-51] Atendido a las 10.12. Casa\n",
      "\u001b[0;30mLlega: Paciente-59 a la hora 10.13.\n",
      "\u001b[0;30mEntra paciente a atenderce: Paciente-59 a la hora 10.13.\n",
      "\u001b[0;30mPaciente-53  Atendido\n",
      "El costo de la Prueba es de: 200\n",
      "\u001b[0;30mLlega: Paciente-60 a la hora 10.17.\n",
      "\u001b[0;31mPaciente Infectado [Paciente-53] Atendido a las 10.17. Internado\n",
      "\u001b[0;30mEntra paciente a atenderce: Paciente-60 a la hora 10.17.\n",
      "\u001b[0;34mse le asigna a una cama: Paciente-53 a la hora 10.17.\n",
      "\u001b[0;34mCAMAS DISPONIBLES 548\n",
      "\u001b[0;30mPaciente-52  Atendido\n",
      "El costo de la Prueba es de: 100\n",
      "\u001b[0;30mLlega: Paciente-61 a la hora 10.20.\n",
      "\u001b[0;31mPaciente Infectado [Paciente-52] Atendido a las 10.20. Internado\n",
      "\u001b[0;30mEntra paciente a atenderce: Paciente-61 a la hora 10.20.\n",
      "\u001b[0;34mse le asigna a una cama: Paciente-52 a la hora 10.20.\n",
      "\u001b[0;34mCAMAS DISPONIBLES 547\n",
      "\u001b[0;30mPaciente-56  Atendido\n",
      "El costo de la Prueba es de: 200\n",
      "\u001b[0;30mLlega: Paciente-62 a la hora 10.27.\n",
      "\u001b[0;32mPaciente Sano [Paciente-56] Atendido a las 10.27. Casa\n",
      "\u001b[0;30mEntra paciente a atenderce: Paciente-62 a la hora 10.27.\n",
      "\u001b[0;30mPaciente-54  Atendido\n",
      "El costo de la Prueba es de: 100\n",
      "\u001b[0;31mPaciente Infectado [Paciente-54] Atendido a las 10.28. Internado\n",
      "\u001b[0;34mse le asigna a una cama: Paciente-54 a la hora 10.28.\n",
      "\u001b[0;34mCAMAS DISPONIBLES 546\n",
      "\u001b[0;30mPaciente-55  Atendido\n",
      "El costo de la Prueba es de: 200\n",
      "\u001b[0;32mPaciente Sano [Paciente-55] Atendido a las 10.30. Casa\n",
      "\u001b[0;30mPaciente-57  Atendido\n",
      "El costo de la Prueba es de: 200\n",
      "\u001b[0;32mPaciente Sano [Paciente-57] Atendido a las 10.32. Casa\n",
      "\n",
      "\n",
      "\u001b[0;34mMEDIA  156.140350877193\n",
      "\u001b[0;34mNumero de pacientes : 62\n",
      "\u001b[0;34mNumero de pacientes Atendidos: 36\n",
      "\u001b[0;34mNumero de pacientes se quedaron sin atender y fallecieron: 26\n"
     ]
    }
   ],
   "source": [
    "import simpy\n",
    "import random\n",
    "import matplotlib.pyplot as plt\n",
    "\n",
    "%matplotlib inline\n",
    "\n",
    "# maximo de pacientes por dia \n",
    "MAX_PACIENTES = 200\n",
    "#total recursos\n",
    "TEST = 50\n",
    "# Tiempo que tarda en atenderse un paciente (minutos)\n",
    "TIEMPO_ATENCION = 17\n",
    "# Intervalo de tiempo en que llegan pacientes(minutos)\n",
    "INTERVALO_LLEGADA = 3\n",
    "# Tiempo de simulación\n",
    "TIEMPO_SIMULACION = 200\n",
    "#Numero de camas\n",
    "NUM_CAMAS=567;\n",
    "RESPIRADORES = 100\n",
    "\n",
    "PRECIO_TEST = [100, 200]\n",
    "tiempo={}\n",
    "Pllegan={}\n",
    "Patendidos={}\n",
    "Pno={}\n",
    "camas={}\n",
    "costos_totales = []\n",
    "cam_usadas = []\n",
    "cont = []\n",
    "respiradores = []\n",
    "ncamas = 567\n",
    "nrespiradores = 100\n",
    "class Hospital(object):\n",
    "    \n",
    "    def __init__(self, environment, num_test, tiempo_atencion, camas, num_respiradores):\n",
    "        # Guardamos como variable el entorno de ejecucion\n",
    "        self.env=environment\n",
    "        # Creamos el recurso que representa los consultorios\n",
    "        self.test = simpy.Resource(environment, num_test)\n",
    "        self.camas = simpy.Resource(environment, camas)\n",
    "        # Variable para el tiempo de atencion \n",
    "        self.tiempo_atencion = tiempo_atencion\n",
    "        self.respirador = simpy.Resource(enviroment, num_respiradores)\n",
    "    def atencion(self, paciente):\n",
    "        yield self.env.timeout(random.randint(TIEMPO_ATENCION-2, TIEMPO_ATENCION+2))   \n",
    "        print(chr(27)+\"[0;30m\"+paciente,' Atendido')\n",
    "        precio = 0\n",
    "        pr = random.randint(1, 10)\n",
    "        if pr > 5:\n",
    "            precio = PRECIO_TEST[0]\n",
    "        else:\n",
    "            precio = PRECIO_TEST[1]\n",
    "        print('El costo de la Prueba es de:', precio)\n",
    "        costos_totales.append(precio)\n",
    "        cont.append(1)\n",
    "        \n",
    "    def zona_aislamiento(self, paciente):\n",
    "        t=random.randint(5, 20)\n",
    "        rnd = random.randint(1,100)\n",
    "        #8% de probabilidad de fallecer\n",
    "        #92% de probabilidad de cura \n",
    "        if rnd <= 92:\n",
    "            yield self.env.timeout(t)\n",
    "            print(chr(27)+\"[0;33m\"+'El ',paciente, 'Termina la Hospitalizacion en', t ,' Dias')\n",
    "        else:\n",
    "            yield self.env.timeout(t)\n",
    "            print(chr(27)+\"[1;30m\"+'El ', paciente, 'Fallece a', t ,' Dias de Hospitalizacion')\n",
    "        \n",
    "        tiempo[paciente]=t\n",
    "        \n",
    "    \n",
    "def llegada_paciente(env, nombre, hospital):\n",
    "    \n",
    "    # Usamos el reloj de la simulacion (env.now()) para indicar a la\n",
    "    # hora que llega el paciente con el nombre pasado como parametro\n",
    "    print(chr(27)+\"[0;30m\"+'Llega: %s a la hora %.2f.' % (nombre, (env.now+420)/60))\n",
    "    Pllegan[nombre]=((env.now+420)/60)\n",
    "    \n",
    "    # Especificamos que vamos a usar un recurso (Resource) que representa\n",
    "    # el consultorio del Hospital\n",
    "    with hospital.test.request() as test:\n",
    "        # Ocupamos los recursos\n",
    "        yield test\n",
    "        # Indicamos que el paciente entra al consultorio\n",
    "        print(chr(27)+\"[0;30m\"+'Entra paciente a atenderce: %s a la hora %.2f.' % (nombre, (env.now+420)/60))\n",
    "        \n",
    "        # se realiza el test de covid_19\n",
    "        \n",
    "        rnd = random.randint(1,100)\n",
    "        if rnd <= 60: # sanos 60% infectados 40%\n",
    "            yield env.process(hospital.atencion(nombre))\n",
    "            print(chr(27)+\"[0;32m\"+'Paciente Sano [%s] Atendido a las %.2f.' % (nombre, (env.now+420)/60),\"Casa\")\n",
    "            tiempo[nombre]=((env.now+420)/60)\n",
    "            \n",
    "        else:\n",
    "            \n",
    "            yield env.process(hospital.atencion(nombre))\n",
    "            print(chr(27)+\"[0;31m\"+'Paciente Infectado [%s] Atendido a las %.2f.' % (nombre, (env.now+420)/60),\"Internado\")\n",
    "            with hospital.camas.request() as cama:\n",
    "                # Ocupamos el consultorio\n",
    "\n",
    "                yield cama\n",
    "                # Indicamos que paciente entra al consultorio\n",
    "                print(chr(27)+\"[0;34m\"+'se le asigna a una cama: %s a la hora %.2f.' % (nombre, (env.now+420)/60))\n",
    "                global ncamas\n",
    "                ncamas-= 1\n",
    "                print(chr(27)+\"[0;34m\"+'CAMAS DISPONIBLES', ncamas)\n",
    "                cam_usadas.append(ncamas)\n",
    "                global nrespiradores\n",
    "                nrespiradores -= 1\n",
    "                respiradores.append(nrespiradores)\n",
    "                respirador = random.randint(1, 10)\n",
    "                if respirador%2 == 0:\n",
    "                    with hospital.respirador.request() as resp:\n",
    "                        yield resp\n",
    "                        print(chr(27)+\"[0;34m\"+'se le asigna a un respirador: %s a la hora %.2f.' % (nombre, (env.now+420)/60))\n",
    "                        print(chr(27)+\"[0;34m\"+'RESPIRADORES DISPONIBLES', nrespiradores)\n",
    "                    \n",
    "              \n",
    "            \n",
    "            \n",
    "            \n",
    "            \n",
    "            \n",
    "def ejecutar_simulacion(env, num_test, tiempo_atencion, intervalo, camas, num_respiradores):\n",
    "    hospital=Hospital(env, num_test, tiempo_atencion, camas, num_respiradores)\n",
    "    # Creamos 5 llegadas de pacientes iniciales\n",
    "    for i in range(5):\n",
    "        edad = random.randint(5, 65)\n",
    "        env.process(llegada_paciente(env, 'Paciente-%d'%(i+1),hospital))\n",
    "    \n",
    "    # Ejecutamos la simulacion\n",
    "    while True:\n",
    "        yield env.timeout(random.randint(intervalo-3, intervalo+3))\n",
    "        edad = random.randint(5, 65)\n",
    "        i+=1\n",
    "        # Mientras se atienden los pacientes generamos mas pacientes\n",
    "        env.process(llegada_paciente(env, 'Paciente-%d'%(i+1),hospital))\n",
    "\n",
    "print('Hospital')\n",
    "\n",
    "# Creamos el entorno de simulacion\n",
    "env=simpy.Environment()\n",
    "env.process(ejecutar_simulacion(env, TEST, TIEMPO_ATENCION, INTERVALO_LLEGADA, NUM_CAMAS, RESPIRADORES))\n",
    "\n",
    "# Ejecutamos el proceso durante el tiempo de simulacion\n",
    "env.run(until = TIEMPO_SIMULACION)\n",
    "print(\"\\n\")\n",
    "\n",
    "media = sum(costos_totales)/len(costos_totales)\n",
    "print(chr(27)+\"[0;34m\"+'MEDIA ',media)\n",
    "\n",
    "\n",
    "print(chr(27)+\"[0;34m\"+\"Numero de pacientes :\",len(Pllegan))\n",
    "print(chr(27)+\"[0;34m\"+\"Numero de pacientes Atendidos:\",len(tiempo))\n",
    "print(chr(27)+\"[0;34m\"+\"Numero de pacientes se quedaron sin atender y fallecieron:\",len(Pllegan)-len(tiempo))\n",
    "\n",
    "\n",
    "\n",
    "    "
   ]
  },
  {
   "cell_type": "code",
   "execution_count": 74,
   "metadata": {},
   "outputs": [
    {
     "data": {
      "image/png": "[encoded data removed]",
      "text/plain": [
       "<Figure size 432x288 with 1 Axes>"
      ]
     },
     "metadata": {
      "needs_background": "light"
     },
     "output_type": "display_data"
    },
    {
     "data": {
      "image/png": "[encoded data removed]",
      "text/plain": [
       "<Figure size 432x288 with 1 Axes>"
      ]
     },
     "metadata": {
      "needs_background": "light"
     },
     "output_type": "display_data"
    },
    {
     "data": {
      "image/png": "[encoded data removed]",
      "text/plain": [
       "<Figure size 432x288 with 1 Axes>"
      ]
     },
     "metadata": {
      "needs_background": "light"
     },
     "output_type": "display_data"
    },
    {
     "data": {
      "image/png": "[encoded data removed]",
      "text/plain": [
       "<Figure size 432x288 with 1 Axes>"
      ]
     },
     "metadata": {
      "needs_background": "light"
     },
     "output_type": "display_data"
    }
   ],
   "source": [
    "for i in range(len(cont)):\n",
    "    cont[i] = i + 1\n",
    "pp.plot(cont, costos_totales)\n",
    "pp.title('Persona - Costos')\n",
    "pp.ylabel('$ Precio')\n",
    "pp.xlabel('Personas')\n",
    "pp.show()\n",
    "\n",
    "pp.plot([i for i in range(len(cam_usadas))], cam_usadas,  color = 'red')\n",
    "pp.title('Persona - Camas Usadas')\n",
    "pp.show()\n",
    "\n",
    "pp.plot([i for i in range(len(respiradores))], respiradores,  color = 'blue')\n",
    "pp.title('Persona - Respiradores Usadas')\n",
    "pp.show()\n",
    "\n",
    "pp.plot(media, 10, '*',  color = 'orange')\n",
    "pp.title('Media Costos')\n",
    "pp.show()"
   ]
  },
  {
   "attachments": {},
   "cell_type": "markdown",
   "metadata": {},
   "source": [
    "## Conclusiones\n",
    "Se obtinen los siguites resultados para la provincia de Cotopaxi en donde hasta la fecha se cuenta 207 infectados, en donde se cuenta con los siguientes centros de salud:\n",
    "- Ministerio de Salud Pública\n",
    "- Ministerio de Defensa Nacional\n",
    "- Instituto Ecuatoriano de Seguridad Social\n",
    "- Fiscomisionales\n",
    "- Privados con fines de lucro\n",
    "\n",
    "y en total en camas suma 567 y el total de insumos en este caso respiradores 100 \n",
    "no se encontraron mas resultados, y por la situacion del pais los datos no son los correctos por lo tanto la simulacion no se apega mucho a la realidad. \n",
    "\n",
    "La simulacion dio los suiguientes resultados \n",
    "- Numero de pacientes : 77\n",
    "- Numero de pacientes Atendidos: 45\n",
    "- Numero de pacientes se quedaron sin atender y fallecieron: 32\n",
    "\n",
    "\n",
    "## Recomendaciones\n",
    "Se recomienda tener un banco de datos exaxtos y estos datos deben ser de todo el entorno de esta forma la simulacion dara resultados mas precios y apegados a la realidad.\n",
    "\n",
    "\n",
    "## Opiniones\n",
    "Al no saber los datos reales del pais es muy dificil obtener resultado coerentes ya que la estadistica descriptiva y todo modelo  de simulacion necesita datos excatos y limpios y de esta forma obtener resultados coerentes, por la falta de informacion y en este caso de la provincia de Cotopaxi la siluacion no se apega al escenario actual de contagios en la provincia "
   ]
  },
  {
   "cell_type": "code",
   "execution_count": null,
   "metadata": {},
   "outputs": [],
   "source": []
  }
 ],
 "metadata": {
  "kernelspec": {
   "display_name": "Python 3",
   "language": "python",
   "name": "python3"
  },
  "language_info": {
   "codemirror_mode": {
    "name": "ipython",
    "version": 3
   },
   "file_extension": ".py",
   "mimetype": "text/x-python",
   "name": "python",
   "nbconvert_exporter": "python",
   "pygments_lexer": "ipython3",
   "version": "3.7.6"
  }
 },
 "nbformat": 4,
 "nbformat_minor": 1
}
