{
 "cells": [
  {
   "cell_type": "code",
   "execution_count": 151,
   "metadata": {},
   "outputs": [],
   "source": [
    "class Paciente:\n",
    "    nombre = ''\n",
    "    edad = 0\n",
    "    tipo='a'\n",
    "    genero=''\n",
    "    estado = False\n",
    "\n",
    "    def __init__(self, nombre, edad, tipo, genero, estado):\n",
    "        self.nombre = nombre\n",
    "        self.edad = edad\n",
    "        self.tipo = tipo\n",
    "        self.genero=genero\n",
    "        self.estado = estado\n",
    "        \n",
    "\n"
   ]
  },
  {
   "cell_type": "code",
   "execution_count": 152,
   "metadata": {},
   "outputs": [
    {
     "data": {
      "text/plain": [
       "65.0"
      ]
     },
     "execution_count": 152,
     "metadata": {},
     "output_type": "execute_result"
    }
   ],
   "source": [
    "import pandas as pd\n",
    "import numpy as np\n",
    "url = 'C:\\\\Users\\\\Braulio Castro\\\\Desktop\\\\10 Ciclo\\\\Simulacion\\\\Casos covid por provincias.xlsx'\n",
    "df = pd.read_excel(url)\n",
    "formatofecha='%Y-%m-%d'\n",
    "casos=[]\n",
    "#Leemos los datos de la proviencia de Cotopaxi\n",
    "#se ecuentra en la posicion 5\n",
    "datos=df.iloc[5]\n",
    "for i in datos:\n",
    "    casos.append(i)\n",
    "casos.pop(0)\n",
    "#guardamos los datos en una lista\n",
    "y=np.array(casos)\n",
    "media = round(y.mean()*3)\n",
    "media"
   ]
  },
  {
   "cell_type": "code",
   "execution_count": 255,
   "metadata": {},
   "outputs": [
    {
     "name": "stdout",
     "output_type": "stream",
     "text": [
      "Hospital\n",
      "\u001b[0;30mLlega Paciente: Adulto-3 a la hora 7.00.\n",
      "\u001b[0;30mLlega Paciente: Niño-9 a la hora 7.00.\n",
      "\u001b[0;30mLlega Paciente: Mayor-15 a la hora 7.00.\n",
      "\u001b[0;30mLlega Paciente: Mayor-15 a la hora 7.00.\n",
      "\u001b[0;30mLlega Paciente: Adulto-25 a la hora 7.00.\n",
      "\u001b[0;30mLlega Paciente: Niño-31 a la hora 7.00.\n",
      "\u001b[0;30mLlega Paciente: Adulto-58 a la hora 7.00.\n",
      "\u001b[0;30mLlega Paciente: Adulto-60 a la hora 7.00.\n",
      "\u001b[0;30mLlega Paciente: Adulto-69 a la hora 7.00.\n",
      "\u001b[0;30mLlega Paciente: Niño-71 a la hora 7.00.\n",
      "\u001b[0;30mLlega Paciente: Adulto-77 a la hora 7.00.\n",
      "\u001b[0;30mLlega Paciente: Niño-78 a la hora 7.00.\n",
      "\u001b[0;30mLlega Paciente: Adulto-79 a la hora 7.00.\n",
      "\u001b[0;30mLlega Paciente: Adulto-81 a la hora 7.00.\n",
      "\u001b[0;30mLlega Paciente: Adulto-83 a la hora 7.00.\n",
      "\u001b[0;30mLlega Paciente: Adulto-86 a la hora 7.00.\n",
      "\u001b[0;30mLlega Paciente: Niño-87 a la hora 7.00.\n",
      "\u001b[0;30mLlega Paciente: Adulto-89 a la hora 7.00.\n",
      "\u001b[0;30mLlega Paciente: Adulto-90 a la hora 7.00.\n",
      "\u001b[0;30mLlega Paciente: Adulto-91 a la hora 7.00.\n",
      "\u001b[0;30mLlega Paciente: Adulto-93 a la hora 7.00.\n",
      "\u001b[0;30mLlega Paciente: Adulto-94 a la hora 7.00.\n",
      "\u001b[0;30mLlega Paciente: Adulto-97 a la hora 7.00.\n",
      "\u001b[0;30mEntra paciente: Adulto-3 a atenderce a la hora 7.00.\n",
      "\u001b[0;30mEntra paciente: Niño-9 a atenderce a la hora 7.00.\n",
      "\u001b[0;30mEntra paciente: Mayor-15 a atenderce a la hora 7.00.\n",
      "\u001b[0;30mEntra paciente: Mayor-15 a atenderce a la hora 7.00.\n",
      "\u001b[0;30mEntra paciente: Adulto-25 a atenderce a la hora 7.00.\n",
      "\u001b[0;30mEntra paciente: Niño-31 a atenderce a la hora 7.00.\n",
      "\u001b[0;30mEntra paciente: Adulto-58 a atenderce a la hora 7.00.\n",
      "\u001b[0;30mEntra paciente: Adulto-60 a atenderce a la hora 7.00.\n",
      "\u001b[0;30mEntra paciente: Adulto-69 a atenderce a la hora 7.00.\n",
      "\u001b[0;30mEntra paciente: Niño-71 a atenderce a la hora 7.00.\n",
      "\u001b[0;30mEntra paciente: Adulto-77 a atenderce a la hora 7.00.\n",
      "\u001b[0;30mEntra paciente: Niño-78 a atenderce a la hora 7.00.\n",
      "\u001b[0;30mEntra paciente: Adulto-79 a atenderce a la hora 7.00.\n",
      "\u001b[0;30mEntra paciente: Adulto-81 a atenderce a la hora 7.00.\n",
      "\u001b[0;30mEntra paciente: Adulto-83 a atenderce a la hora 7.00.\n",
      "\u001b[0;30mEntra paciente: Adulto-86 a atenderce a la hora 7.00.\n",
      "\u001b[0;30mEntra paciente: Niño-87 a atenderce a la hora 7.00.\n",
      "\u001b[0;30mEntra paciente: Adulto-89 a atenderce a la hora 7.00.\n",
      "\u001b[0;30mEntra paciente: Adulto-90 a atenderce a la hora 7.00.\n",
      "\u001b[0;30mEntra paciente: Adulto-91 a atenderce a la hora 7.00.\n",
      "\u001b[0;30mEntra paciente: Adulto-93 a atenderce a la hora 7.00.\n",
      "\u001b[0;30mEntra paciente: Adulto-94 a atenderce a la hora 7.00.\n",
      "\u001b[0;30mEntra paciente: Adulto-97 a atenderce a la hora 7.00.\n",
      "\u001b[0;30m Paciente Mayor-15  Atendido\n",
      "El costo de la Prueba es de: 100\n",
      "\u001b[0;30m Paciente Adulto-69  Atendido\n",
      "El costo de la Prueba es de: 100\n",
      "\u001b[0;31mEl Paciente [Mayor-15] Tiene Sintomas Leves  Atendido a las 7.25. Internado\n",
      "\u001b[0;31mEl Paciente [Adulto-69] Tiene Sintomas Leves  Atendido a las 7.25. Internado\n",
      "\u001b[0;34mse le asigna a una cama de Hospitalizacion al Paciente: Mayor-15 a la hora 7.25.\n",
      "\u001b[0;34mCAMAS DISPONIBLES HOSPITALIZACION 113\n",
      "\u001b[0;30mEl Paciente: Mayor-15 llega a la hora 7.25. A la Zona de aislamiento 1\n",
      "\u001b[0;30mEl Paciente: Mayor-15 llega a la hora 7.25. A la Zona de aislamiento 1\n",
      "\u001b[0;34mse le asigna a una cama de Hospitalizacion al Paciente: Adulto-69 a la hora 7.25.\n",
      "\u001b[0;34mCAMAS DISPONIBLES HOSPITALIZACION 112\n",
      "\u001b[0;30mEl Paciente: Adulto-69 llega a la hora 7.25. A la Zona de aislamiento 1\n",
      "\u001b[0;30m Paciente Adulto-3  Atendido\n",
      "El costo de la Prueba es de: 200\n",
      "\u001b[0;30m Paciente Adulto-89  Atendido\n",
      "El costo de la Prueba es de: 200\n",
      "\u001b[0;31mEl Paciente [Adulto-3] Tiene Sintomas Leves  Atendido a las 7.27. Internado\n",
      "\u001b[0;31mEl Paciente [Adulto-89] Tiene Sintomas Leves  Atendido a las 7.27. Internado\n",
      "\u001b[0;34mse le asigna a una cama de Hospitalizacion al Paciente: Adulto-3 a la hora 7.27.\n",
      "\u001b[0;34mCAMAS DISPONIBLES HOSPITALIZACION 111\n",
      "\u001b[0;30mEl Paciente: Adulto-3 llega a la hora 7.27. A la Zona de aislamiento 1\n",
      "\u001b[0;34mse le asigna a una cama de Hospitalizacion al Paciente: Adulto-89 a la hora 7.27.\n",
      "\u001b[0;34mCAMAS DISPONIBLES HOSPITALIZACION 110\n",
      "\u001b[0;30mEl Paciente: Adulto-89 llega a la hora 7.27. A la Zona de aislamiento 1\n",
      "\u001b[0;30m Paciente Niño-9  Atendido\n",
      "El costo de la Prueba es de: 200\n",
      "\u001b[0;30m Paciente Adulto-25  Atendido\n",
      "El costo de la Prueba es de: 100\n",
      "\u001b[0;30m Paciente Niño-71  Atendido\n",
      "El costo de la Prueba es de: 100\n",
      "\u001b[0;30m Paciente Adulto-77  Atendido\n",
      "El costo de la Prueba es de: 100\n",
      "\u001b[0;30m Paciente Niño-78  Atendido\n",
      "El costo de la Prueba es de: 100\n",
      "\u001b[0;30m Paciente Adulto-79  Atendido\n",
      "El costo de la Prueba es de: 200\n",
      "\u001b[0;30m Paciente Niño-87  Atendido\n",
      "El costo de la Prueba es de: 100\n",
      "\u001b[0;30m Paciente Adulto-93  Atendido\n",
      "El costo de la Prueba es de: 100\n",
      "\u001b[0;33mEl Paciente Adulto-69 Tiene Neumonia, a  2  Dias de Hospitalizacion\n",
      "\u001b[0;32m Asintomatico Paciente [Niño-9] Recuperado a las 7.28. hrs En  4 Dias\n",
      "\u001b[0;31mEl Paciente [Adulto-25] Tiene Sintomas Leves  Atendido a las 7.28. Internado\n",
      "\u001b[0;32m Asintomatico Paciente [Niño-71] Recuperado a las 7.28. hrs En  1 Dias\n",
      "\u001b[0;31mEl Paciente [Adulto-77] Tiene Sintomas Leves  Atendido a las 7.28. Internado\n",
      "\u001b[0;32m Asintomatico Paciente [Niño-78] Recuperado a las 7.28. hrs En  3 Dias\n",
      "\u001b[0;31mEl Paciente [Adulto-79] Tiene Sintomas Leves  Atendido a las 7.28. Internado\n",
      "\u001b[0;32m Asintomatico Paciente [Niño-87] Recuperado a las 7.28. hrs En  6 Dias\n",
      "\u001b[0;31mEl Paciente [Adulto-93] Tiene Sintomas Leves  Atendido a las 7.28. Internado\n",
      "\u001b[0;35mSe le asigna a un respirador al Paciente: Adulto-69 a la hora 7.28. a los 2 Dias\n",
      "\u001b[0;35mRESPIRADORES DISPONIBLES 99\n",
      "\u001b[0;30mEl Paciente: Adulto-69 llega a la hora 7.28. A la Zona de aislamiento 2\n",
      "\u001b[0;34mse le asigna a una cama de Hospitalizacion al Paciente: Adulto-25 a la hora 7.28.\n",
      "\u001b[0;34mCAMAS DISPONIBLES HOSPITALIZACION 109\n",
      "\u001b[0;30mEl Paciente: Adulto-25 llega a la hora 7.28. A la Zona de aislamiento 1\n",
      "\u001b[0;34mse le asigna a una cama de Hospitalizacion al Paciente: Adulto-77 a la hora 7.28.\n",
      "\u001b[0;34mCAMAS DISPONIBLES HOSPITALIZACION 108\n",
      "\u001b[0;30mEl Paciente: Adulto-77 llega a la hora 7.28. A la Zona de aislamiento 1\n",
      "\u001b[0;34mse le asigna a una cama de Hospitalizacion al Paciente: Adulto-79 a la hora 7.28.\n",
      "\u001b[0;34mCAMAS DISPONIBLES HOSPITALIZACION 107\n",
      "\u001b[0;30mEl Paciente: Adulto-79 llega a la hora 7.28. A la Zona de aislamiento 1\n",
      "\u001b[0;34mse le asigna a una cama de Hospitalizacion al Paciente: Adulto-93 a la hora 7.28.\n",
      "\u001b[0;34mCAMAS DISPONIBLES HOSPITALIZACION 106\n",
      "\u001b[0;30mEl Paciente: Adulto-93 llega a la hora 7.28. A la Zona de aislamiento 1\n",
      "\u001b[0;30m Paciente Mayor-15  Atendido\n",
      "El costo de la Prueba es de: 200\n",
      "\u001b[0;30m Paciente Adulto-60  Atendido\n",
      "El costo de la Prueba es de: 200\n",
      "\u001b[0;31mEl Paciente [Mayor-15] Tiene Sintomas Leves  Atendido a las 7.30. Internado\n",
      "\u001b[0;31mEl Paciente [Adulto-60] Tiene Sintomas Leves  Atendido a las 7.30. Internado\n",
      "\u001b[0;34mse le asigna a una cama de Hospitalizacion al Paciente: Mayor-15 a la hora 7.30.\n",
      "\u001b[0;34mCAMAS DISPONIBLES HOSPITALIZACION 105\n",
      "\u001b[0;30mEl Paciente: Mayor-15 llega a la hora 7.30. A la Zona de aislamiento 1\n",
      "\u001b[0;30mEl Paciente: Mayor-15 llega a la hora 7.30. A la Zona de aislamiento 1\n",
      "\u001b[0;34mse le asigna a una cama de Hospitalizacion al Paciente: Adulto-60 a la hora 7.30.\n",
      "\u001b[0;34mCAMAS DISPONIBLES HOSPITALIZACION 104\n",
      "\u001b[0;30mEl Paciente: Adulto-60 llega a la hora 7.30. A la Zona de aislamiento 1\n",
      "\u001b[0;30m Paciente Niño-31  Atendido\n",
      "El costo de la Prueba es de: 100\n",
      "\u001b[0;30m Paciente Adulto-58  Atendido\n",
      "El costo de la Prueba es de: 200\n",
      "\u001b[0;30m Paciente Adulto-81  Atendido\n",
      "El costo de la Prueba es de: 100\n",
      "\u001b[0;30m Paciente Adulto-83  Atendido\n",
      "El costo de la Prueba es de: 200\n",
      "\u001b[0;30m Paciente Adulto-86  Atendido\n",
      "El costo de la Prueba es de: 100\n",
      "\u001b[0;30m Paciente Adulto-90  Atendido\n",
      "El costo de la Prueba es de: 200\n",
      "\u001b[0;30m Paciente Adulto-91  Atendido\n",
      "El costo de la Prueba es de: 200\n",
      "\u001b[0;30m Paciente Adulto-94  Atendido\n",
      "El costo de la Prueba es de: 100\n",
      "\u001b[0;30m Paciente Adulto-97  Atendido\n",
      "El costo de la Prueba es de: 100\n",
      "\u001b[0;32m Asintomatico Paciente [Niño-31] Recuperado a las 7.32. hrs En  5 Dias\n",
      "\u001b[0;31mEl Paciente [Adulto-58] Tiene Sintomas Leves  Atendido a las 7.32. Internado\n",
      "\u001b[0;31mEl Paciente [Adulto-81] Tiene Sintomas Leves  Atendido a las 7.32. Internado\n",
      "\u001b[0;31mEl Paciente [Adulto-83] Tiene Sintomas Leves  Atendido a las 7.32. Internado\n",
      "\u001b[0;31mEl Paciente [Adulto-86] Tiene Sintomas Leves  Atendido a las 7.32. Internado\n",
      "\u001b[0;31mEl Paciente [Adulto-90] Tiene Sintomas Leves  Atendido a las 7.32. Internado\n",
      "\u001b[0;31mEl Paciente [Adulto-91] Tiene Sintomas Leves  Atendido a las 7.32. Internado\n",
      "\u001b[0;31mEl Paciente [Adulto-94] Tiene Sintomas Leves  Atendido a las 7.32. Internado\n",
      "\u001b[0;31mEl Paciente [Adulto-97] Tiene Sintomas Leves  Atendido a las 7.32. Internado\n",
      "\u001b[0;34mse le asigna a una cama de Hospitalizacion al Paciente: Adulto-58 a la hora 7.32.\n",
      "\u001b[0;34mCAMAS DISPONIBLES HOSPITALIZACION 103\n",
      "\u001b[0;30mEl Paciente: Adulto-58 llega a la hora 7.32. A la Zona de aislamiento 1\n",
      "\u001b[0;34mse le asigna a una cama de Hospitalizacion al Paciente: Adulto-81 a la hora 7.32.\n",
      "\u001b[0;34mCAMAS DISPONIBLES HOSPITALIZACION 102\n",
      "\u001b[0;30mEl Paciente: Adulto-81 llega a la hora 7.32. A la Zona de aislamiento 1\n",
      "\u001b[0;34mse le asigna a una cama de Hospitalizacion al Paciente: Adulto-83 a la hora 7.32.\n",
      "\u001b[0;34mCAMAS DISPONIBLES HOSPITALIZACION 101\n",
      "\u001b[0;30mEl Paciente: Adulto-83 llega a la hora 7.32. A la Zona de aislamiento 1\n",
      "\u001b[0;34mse le asigna a una cama de Hospitalizacion al Paciente: Adulto-86 a la hora 7.32.\n",
      "\u001b[0;34mCAMAS DISPONIBLES HOSPITALIZACION 100\n",
      "\u001b[0;30mEl Paciente: Adulto-86 llega a la hora 7.32. A la Zona de aislamiento 1\n",
      "\u001b[0;34mse le asigna a una cama de Hospitalizacion al Paciente: Adulto-90 a la hora 7.32.\n",
      "\u001b[0;34mCAMAS DISPONIBLES HOSPITALIZACION 99\n",
      "\u001b[0;30mEl Paciente: Adulto-90 llega a la hora 7.32. A la Zona de aislamiento 1\n",
      "\u001b[0;34mse le asigna a una cama de Hospitalizacion al Paciente: Adulto-91 a la hora 7.32.\n",
      "\u001b[0;34mCAMAS DISPONIBLES HOSPITALIZACION 98\n",
      "\u001b[0;30mEl Paciente: Adulto-91 llega a la hora 7.32. A la Zona de aislamiento 1\n",
      "\u001b[0;34mse le asigna a una cama de Hospitalizacion al Paciente: Adulto-94 a la hora 7.32.\n",
      "\u001b[0;34mCAMAS DISPONIBLES HOSPITALIZACION 97\n",
      "\u001b[0;30mEl Paciente: Adulto-94 llega a la hora 7.32. A la Zona de aislamiento 1\n",
      "\u001b[0;34mse le asigna a una cama de Hospitalizacion al Paciente: Adulto-97 a la hora 7.32.\n",
      "\u001b[0;34mCAMAS DISPONIBLES HOSPITALIZACION 96\n",
      "\u001b[0;30mEl Paciente: Adulto-97 llega a la hora 7.32. A la Zona de aislamiento 1\n",
      "\u001b[0;33mEl Paciente Adulto-90 Tiene Neumonia, a  2  Dias de Hospitalizacion\n",
      "\u001b[0;35mSe le asigna a un respirador al Paciente: Adulto-90 a la hora 7.35. a los 2 Dias\n",
      "\u001b[0;35mRESPIRADORES DISPONIBLES 98\n",
      "\u001b[0;30mEl Paciente: Adulto-90 llega a la hora 7.35. A la Zona de aislamiento 2\n",
      "\u001b[0;33mEl Paciente Adulto-81 Tiene Neumonia, a  3  Dias de Hospitalizacion\n",
      "\u001b[0;35mSe le asigna a un respirador al Paciente: Adulto-81 a la hora 7.37. a los 3 Dias\n",
      "\u001b[0;35mRESPIRADORES DISPONIBLES 97\n",
      "\u001b[0;30mEl Paciente: Adulto-81 llega a la hora 7.37. A la Zona de aislamiento 2\n",
      "\u001b[0;33mEl Paciente Mayor-15 Tiene Neumonia, a  8  Dias de Hospitalizacion\n",
      "\u001b[0;35mSe le asigna a un respirador al Paciente: Mayor-15 a la hora 7.38. a los 8 Dias\n",
      "\u001b[0;35mRESPIRADORES DISPONIBLES 96\n",
      "\u001b[0;30mEl Paciente: Mayor-15 llega a la hora 7.38. A la Zona de aislamiento 2\n",
      "\u001b[0;33mEl Paciente Adulto-58 Tiene Neumonia, a  5  Dias de Hospitalizacion\n",
      "\u001b[0;35mSe le asigna a un respirador al Paciente: Adulto-58 a la hora 7.40. a los 5 Dias\n",
      "\u001b[0;35mRESPIRADORES DISPONIBLES 95\n",
      "\u001b[0;30mEl Paciente: Adulto-58 llega a la hora 7.40. A la Zona de aislamiento 2\n",
      "\u001b[0;33mEl Paciente Adulto-94 Tiene Neumonia, a  6  Dias de Hospitalizacion\n",
      "\u001b[0;35mSe le asigna a un respirador al Paciente: Adulto-94 a la hora 7.42. a los 6 Dias\n",
      "\u001b[0;35mRESPIRADORES DISPONIBLES 94\n",
      "\u001b[0;30mEl Paciente: Adulto-94 llega a la hora 7.42. A la Zona de aislamiento 2\n",
      "\u001b[0;33mEl Paciente Adulto-60 Tiene Neumonia, a  10  Dias de Hospitalizacion\n",
      "\u001b[0;33mEl Paciente Adulto-86 Tiene Neumonia, a  9  Dias de Hospitalizacion\n",
      "\u001b[0;35mSe le asigna a un respirador al Paciente: Adulto-60 a la hora 7.47. a los 10 Dias\n",
      "\u001b[0;35mRESPIRADORES DISPONIBLES 92\n",
      "\u001b[0;30mEl Paciente: Adulto-60 llega a la hora 7.47. A la Zona de aislamiento 2\n",
      "\u001b[0;35mSe le asigna a un respirador al Paciente: Adulto-86 a la hora 7.47. a los 9 Dias\n",
      "\u001b[0;35mRESPIRADORES DISPONIBLES 92\n",
      "\u001b[0;30mEl Paciente: Adulto-86 llega a la hora 7.47. A la Zona de aislamiento 2\n",
      "\u001b[0;33mEl Paciente Adulto-89 Tiene Neumonia, a  13  Dias de Hospitalizacion\n",
      "\u001b[0;33mEl Paciente Mayor-15 Tiene Neumonia, a  11  Dias de Hospitalizacion\n",
      "\u001b[0;36mEl Paciente Adulto-81 Pasa a Cuidados Intensivos a  7  Dias de Hospitalizacion\n",
      "\u001b[0;35mSe le asigna a un respirador al Paciente: Adulto-89 a la hora 7.48. a los 13 Dias\n",
      "\u001b[0;35mRESPIRADORES DISPONIBLES 90\n",
      "\u001b[0;30mEl Paciente: Adulto-89 llega a la hora 7.48. A la Zona de aislamiento 2\n",
      "\u001b[0;35mSe le asigna a un respirador al Paciente: Mayor-15 a la hora 7.48. a los 11 Dias\n",
      "\u001b[0;35mRESPIRADORES DISPONIBLES 90\n",
      "\u001b[0;30mEl Paciente: Mayor-15 llega a la hora 7.48. A la Zona de aislamiento 2\n",
      "\u001b[1;34mSe le asigna a una cama de iNTENSIVOS al Paciente: Adulto-81 a la hora 7.48.\n",
      "\u001b[1;34mCAMAS DISPONIBLES DE INTENSIVOS 17\n",
      "\u001b[0;30mEl Paciente: Adulto-81 llega a la hora 7.48. A la Zona de aislamiento 3\n",
      "\u001b[0;33mEl Paciente Adulto-77 Tiene Neumonia, a  13  Dias de Hospitalizacion\n",
      "\u001b[0;33mEl Paciente Adulto-97 Tiene Neumonia, a  11  Dias de Hospitalizacion\n",
      "\u001b[0;35mSe le asigna a un respirador al Paciente: Adulto-77 a la hora 7.50. a los 13 Dias\n",
      "\u001b[0;35mRESPIRADORES DISPONIBLES 88\n",
      "\u001b[0;30mEl Paciente: Adulto-77 llega a la hora 7.50. A la Zona de aislamiento 2\n",
      "\u001b[0;35mSe le asigna a un respirador al Paciente: Adulto-97 a la hora 7.50. a los 11 Dias\n",
      "\u001b[0;35mRESPIRADORES DISPONIBLES 88\n",
      "\u001b[0;30mEl Paciente: Adulto-97 llega a la hora 7.50. A la Zona de aislamiento 2\n",
      "\u001b[0;33mEl Paciente Adulto-25 Tiene Neumonia, a  14  Dias de Hospitalizacion\n",
      "\u001b[0;35mSe le asigna a un respirador al Paciente: Adulto-25 a la hora 7.52. a los 14 Dias\n",
      "\u001b[0;35mRESPIRADORES DISPONIBLES 87\n",
      "\u001b[0;30mEl Paciente: Adulto-25 llega a la hora 7.52. A la Zona de aislamiento 2\n",
      "\u001b[0;33mEl Paciente Adulto-83 Tiene Neumonia, a  14  Dias de Hospitalizacion\n",
      "\u001b[0;35mSe le asigna a un respirador al Paciente: Adulto-83 a la hora 7.55. a los 14 Dias\n",
      "\u001b[0;35mRESPIRADORES DISPONIBLES 86\n",
      "\u001b[0;30mEl Paciente: Adulto-83 llega a la hora 7.55. A la Zona de aislamiento 2\n",
      "\u001b[1;30mEl Paciente Adulto-89 Se cura a 8  Dias de Hospitalizacion\n",
      "\u001b[1;30mEl Paciente Adulto-86 Se cura a 14  Dias de Hospitalizacion\n",
      "\u001b[0;36mEl Paciente Adulto-83 Pasa a Cuidados Intensivos a  9  Dias de Hospitalizacion\n",
      "\u001b[1;34mSe le asigna a una cama de iNTENSIVOS al Paciente: Adulto-83 a la hora 7.70.\n",
      "\u001b[1;34mCAMAS DISPONIBLES DE INTENSIVOS 16\n",
      "\u001b[0;30mEl Paciente: Adulto-83 llega a la hora 7.70. A la Zona de aislamiento 3\n",
      "\u001b[0;36mEl Paciente Mayor-15 Pasa a Cuidados Intensivos a  20  Dias de Hospitalizacion\n",
      "\u001b[1;34mSe le asigna a una cama de iNTENSIVOS al Paciente: Mayor-15 a la hora 7.72.\n",
      "\u001b[1;34mCAMAS DISPONIBLES DE INTENSIVOS 15\n",
      "\u001b[0;30mEl Paciente: Mayor-15 llega a la hora 7.72. A la Zona de aislamiento 3\n",
      "\u001b[0;36mEl Paciente Adulto-77 Pasa a Cuidados Intensivos a  15  Dias de Hospitalizacion\n",
      "\u001b[1;30mEl Paciente Adulto-25 Se cura a 14  Dias de Hospitalizacion\n",
      "\u001b[1;34mSe le asigna a una cama de iNTENSIVOS al Paciente: Adulto-77 a la hora 7.75.\n",
      "\u001b[1;34mCAMAS DISPONIBLES DE INTENSIVOS 14\n",
      "\u001b[0;30mEl Paciente: Adulto-77 llega a la hora 7.75. A la Zona de aislamiento 3\n",
      "\u001b[0;36mEl Paciente Adulto-94 Pasa a Cuidados Intensivos a  21  Dias de Hospitalizacion\n",
      "\u001b[1;30mEl Paciente Adulto-97 Se cura a 16  Dias de Hospitalizacion\n",
      "\u001b[1;34mSe le asigna a una cama de iNTENSIVOS al Paciente: Adulto-94 a la hora 7.77.\n",
      "\u001b[1;34mCAMAS DISPONIBLES DE INTENSIVOS 13\n",
      "\u001b[0;30mEl Paciente: Adulto-94 llega a la hora 7.77. A la Zona de aislamiento 3\n",
      "\u001b[1;30mEl Paciente Adulto-60 Se cura a 20  Dias de Hospitalizacion\n",
      "\u001b[1;32mEl Paciente Adulto-81 Se cura a 24  Dias de Hospitalizacion\n",
      "\u001b[1;31mEl Paciente Mayor-15 Fallece a  22  Dias de Hospitalizacion\n",
      "\u001b[1;31mEl Paciente Adulto-83 Fallece a  24  Dias de Hospitalizacion\n",
      "\u001b[1;32mEl Paciente Adulto-77 Se cura a 23  Dias de Hospitalizacion\n",
      "\u001b[1;31mEl Paciente Adulto-94 Fallece a  24  Dias de Hospitalizacion\n"
     ]
    }
   ],
   "source": [
    "import simpy\n",
    "import random\n",
    "import matplotlib.pyplot as plt\n",
    "\n",
    "%matplotlib inline\n",
    "\n",
    "# maximo de pacientes por dia \n",
    "MAX_PACIENTES = 200\n",
    "#total recursos\n",
    "TEST = 50\n",
    "# Tiempo que tarda en atenderse un paciente (minutos)\n",
    "TIEMPO_ATENCION = 17\n",
    "# Intervalo de tiempo en que llegan pacientes(minutos)\n",
    "INTERVALO_LLEGADA = media\n",
    "# Tiempo de simulación\n",
    "TIEMPO_SIMULACION = 1000\n",
    "#Numero de respiradores\n",
    "RESPIRADORES = 100\n",
    "#Numero de camas\n",
    "NUM_CAMAS_HOSPITALIZACION=114\n",
    "NUM_CAMAS_INTENSIVO=18\n",
    "\n",
    "PRECIO_TEST = [100, 200]\n",
    "ncamas = 114\n",
    "ncamas2 = 18\n",
    "nrespiradores = 100\n",
    "listaSintomas=[]\n",
    "listaNeumonia=[]\n",
    "listaIntensivo=[]\n",
    "listaFallecidos=[]\n",
    "listaCurados=[]\n",
    "class Hospital(object):\n",
    "    \n",
    "    def __init__(self, environment, num_test, tiempo_atencion, camas, num_respiradores,camas2):\n",
    "        # Guardamos como variable el entorno de ejecucion\n",
    "        self.env=environment\n",
    "        # Creamos el recurso que representa los consultorios\n",
    "        self.test = simpy.Resource(environment, num_test)\n",
    "        self.camas = simpy.Resource(environment, camas)\n",
    "        # Variable para el tiempo de atencion \n",
    "        self.tiempo_atencion = tiempo_atencion\n",
    "        self.respirador = simpy.Resource(environment, num_respiradores)\n",
    "        self.camas2 = simpy.Resource(environment, camas2)\n",
    "    def atencion(self, paciente):\n",
    "        yield self.env.timeout(random.randint(TIEMPO_ATENCION-2, TIEMPO_ATENCION+2))   \n",
    "        print(chr(27)+\"[0;30m Paciente \"+paciente.nombre,' Atendido')\n",
    "        precio = 0\n",
    "        pr = random.randint(1, 10)\n",
    "        if pr > 5:\n",
    "            precio = PRECIO_TEST[0]\n",
    "        else:\n",
    "            precio = PRECIO_TEST[1]\n",
    "        print('El costo de la Prueba es de:', precio)\n",
    "        costos_totales.append(precio)\n",
    "        cont.append(1)\n",
    "        \n",
    "    def zona_aislamiento3(self, paciente, hospital):\n",
    "        print(chr(27)+\"[0;30m\"+'El Paciente: %s llega a la hora %.2f.' % (paciente.nombre, (self.env.now+420)/60),'A la Zona de aislamiento 3')\n",
    "        \n",
    "        t=random.randint(22, 24)\n",
    "        rnd = random.randint(1,100)\n",
    "        if paciente.tipo=='n' or paciente.tipo=='a' or paciente.tipo=='m':\n",
    "            if rnd <= 50:\n",
    "                #50% de probabilidad de fallecer\n",
    "                #50% de probabilidad de recuperado\n",
    "                yield self.env.timeout(t)\n",
    "                print(chr(27)+\"[1;31m\"+'El Paciente',paciente.nombre, 'Fallece a ', t ,' Dias de Hospitalizacion')\n",
    "                listaFallecidos.append(paciente)\n",
    "            else:\n",
    "                yield self.env.timeout(t)\n",
    "                print(chr(27)+\"[1;32m\"+'El Paciente', paciente.nombre, 'Se cura a', t ,' Dias de Hospitalizacion')\n",
    "                listaCurados.append(paciente)\n",
    "        \n",
    "            \n",
    "                   \n",
    "    def zona_aislamiento2(self, paciente, hospital):\n",
    "        print(chr(27)+\"[0;30m\"+'El Paciente: %s llega a la hora %.2f.' % (paciente.nombre, (self.env.now+420)/60),'A la Zona de aislamiento 2')\n",
    "        t3=random.randint(7, 21)\n",
    "        rnd = random.randint(1,100)\n",
    "        global ncamas2\n",
    "        if paciente.tipo=='n' or paciente.tipo=='a' or paciente.tipo=='m':\n",
    "            if rnd <= 25:\n",
    "                #25% de probabilidad de cuidados intensivos\n",
    "                #75% de probabilidad de recuperado\n",
    "                yield self.env.timeout(t3)\n",
    "                print(chr(27)+\"[0;36m\"+'El Paciente',paciente.nombre, 'Pasa a Cuidados Intensivos a ', t3 ,' Dias de Hospitalizacion')\n",
    "                with hospital.camas2.request() as cama2:\n",
    "                    yield cama2\n",
    "                    # Indicamos que paciente entra al consultorio\n",
    "                    print(chr(27)+\"[1;34m\"+'Se le asigna a una cama de iNTENSIVOS al Paciente: %s a la hora %.2f.' % (paciente.nombre, (env.now+420)/60))\n",
    "\n",
    "                    ncamas2-= 1\n",
    "                    print(chr(27)+\"[1;34m\"+'CAMAS DISPONIBLES DE INTENSIVOS', ncamas2)\n",
    "                    yield self.env.process(hospital.zona_aislamiento3(paciente, hospital))\n",
    "                    listaIntensivo.append(paciente)\n",
    "            elif rnd<= 75:\n",
    "                yield self.env.timeout(t3)\n",
    "                print(chr(27)+\"[1;30m\"+'El Paciente', paciente.nombre, 'Se cura a', t3 ,' Dias de Hospitalizacion')\n",
    "                listaCurados.append(paciente)\n",
    "                \n",
    "\n",
    "        \n",
    "    def zona_aislamiento(self, paciente, hospital):\n",
    "        print(chr(27)+\"[0;30m\"+'El Paciente: %s llega a la hora %.2f.' % (paciente.nombre, (self.env.now+420)/60),'A la Zona de aislamiento 1')\n",
    "        t2=random.randint(2, 14)\n",
    "        t3=random.randint(7, 21)\n",
    "        global nrespiradores\n",
    "        rnd = random.randint(1,100)\n",
    "        if paciente.tipo=='n' or paciente.tipo=='a':\n",
    "            #75% de probabilidad de neumonia\n",
    "            #25% de probabilidad de recuperado\n",
    "            \n",
    "            if rnd <= 75:\n",
    "                yield self.env.timeout(t2)\n",
    "                print(chr(27)+\"[0;33m\"+'El Paciente',paciente.nombre, 'Tiene Neumonia, a ', t2 ,' Dias de Hospitalizacion')\n",
    "                \n",
    "                nrespiradores -= 1\n",
    "                with hospital.respirador.request() as resp:\n",
    "                    yield resp\n",
    "                    print(chr(27)+\"[0;35m\"+'Se le asigna a un respirador al Paciente: %s a la hora %.2f.' % (paciente.nombre, (env.now+420)/60), \"a los\",t2,\"Dias\")\n",
    "                    print(chr(27)+\"[0;35m\"+'RESPIRADORES DISPONIBLES', nrespiradores)\n",
    "                    yield self.env.process(hospital.zona_aislamiento2(paciente, hospital))\n",
    "                    listaNeumonia.append(paciente)\n",
    "            elif rnd <= 25:\n",
    "                yield self.env.timeout(t2)\n",
    "                print(chr(27)+\"[1;30m\"+'El Paciente', paciente.nombre, 'Se cura a', t2 ,' Dias de Hospitalizacion')\n",
    "                listaCurados.append(paciente)\n",
    "        \n",
    "        elif paciente.tipo=='m':\n",
    "            #95% de probabilidad de neumonia\n",
    "            #5% de probabilidad de recuperado\n",
    "            print(chr(27)+\"[0;30m\"+'El Paciente: %s llega a la hora %.2f.' % (paciente.nombre, (self.env.now+420)/60),'A la Zona de aislamiento 1')\n",
    "            if rnd <= 95:\n",
    "                yield self.env.timeout(t2)\n",
    "                print(chr(27)+\"[0;33m\"+'El Paciente',paciente.nombre, 'Tiene Neumonia, a ', t2 ,' Dias de Hospitalizacion')\n",
    "                \n",
    "                nrespiradores -= 1\n",
    "                with hospital.respirador.request() as resp:\n",
    "                    yield resp\n",
    "                    print(chr(27)+\"[0;35m\"+'Se le asigna a un respirador al Paciente: %s a la hora %.2f.' % (paciente.nombre, (env.now+420)/60), \"a los\",t2,\"Dias\")\n",
    "                    print(chr(27)+\"[0;35m\"+'RESPIRADORES DISPONIBLES', nrespiradores)\n",
    "                    yield self.env.process(hospital.zona_aislamiento2(paciente, hospital))\n",
    "                    listaNeumonia.append(paciente)\n",
    "            else:\n",
    "                yield self.env.timeout(t2)\n",
    "                print(chr(27)+\"[1;30m\"+'El Paciente', paciente.nombre, 'Se cura a', t2 ,' Dias de Hospitalizacion')\n",
    "                listaCurados.append(paciente)\n",
    "        \n",
    "    \n",
    "def llegada_paciente(env, paciente, hospital):\n",
    "    t1=random.randint(1, 7)\n",
    "    # Usamos el reloj de la simulacion (env.now()) para indicar a la\n",
    "    # hora que llega el paciente con el nombre pasado como parametro\n",
    "    print(chr(27)+\"[0;30m\"+'Llega Paciente: %s a la hora %.2f.' % (paciente.nombre, (env.now+420)/60))\n",
    "\n",
    "    \n",
    "    # Especificamos que vamos a usar un recurso (Resource) que representa\n",
    "    # el consultorio del Hospital\n",
    "    with hospital.test.request() as test:\n",
    "        # Ocupamos los recursos\n",
    "        yield test\n",
    "        # Indicamos que el paciente entra al consultorio\n",
    "        print(chr(27)+\"[0;30m\"+'Entra paciente: %s a atenderce a la hora %.2f.' % (paciente.nombre, (env.now+420)/60))\n",
    "        \n",
    "        # se realiza el test de covid_19\n",
    "        global ncamas\n",
    "        rnd = random.randint(1,100)\n",
    "        if paciente.tipo=='n':\n",
    "            if rnd<=5:\n",
    "                yield env.process(hospital.atencion(paciente))\n",
    "                print(chr(27)+\"[0;31m\"+'El Paciente [%s] Tiene Sintomas Leves  Atendido a las %.2f.' % (paciente.nombre, (env.now+420)/60),\"Internado\")\n",
    "                with hospital.camas.request() as cama:\n",
    "                    yield cama\n",
    "                    # Indicamos que paciente entra al consultorio\n",
    "                    print(chr(27)+\"[0;34m\"+'Se le asigna a una cama de Hospitalizacion al Paciente: %s a la hora %.2f.' % (paciente.nombre, (env.now+420)/60))\n",
    "                    \n",
    "                    ncamas-= 1\n",
    "                    print(chr(27)+\"[0;34m\"+'CAMAS DISPONIBLES HOSPITALIZACION', ncamas)\n",
    "                    cam_usadas.append(ncamas)\n",
    "                    yield env.process(hospital.zona_aislamiento(paciente, hospital))\n",
    "                    listaSintomas.append(paciente)\n",
    "            else:\n",
    "                yield env.process(hospital.atencion(paciente))\n",
    "                print(chr(27)+\"[0;32m\"+' Asintomatico Paciente [%s] Recuperado a las %.2f.' % (paciente.nombre, (env.now+420)/60),'hrs En ',t1,\"Dias\")  \n",
    "                listaCurados.append(paciente)\n",
    "                 \n",
    "        elif paciente.tipo=='a' or paciente.tipo=='m':\n",
    "            if rnd<=100:\n",
    "                yield env.process(hospital.atencion(paciente))\n",
    "                print(chr(27)+\"[0;31m\"+'El Paciente [%s] Tiene Sintomas Leves  Atendido a las %.2f.' % (paciente.nombre, (env.now+420)/60),\"Internado\")\n",
    "\n",
    "                with hospital.camas.request() as cama:\n",
    "                    yield cama\n",
    "                    # Indicamos que paciente entra al consultorio\n",
    "                    print(chr(27)+\"[0;34m\"+'se le asigna a una cama de Hospitalizacion al Paciente: %s a la hora %.2f.' % (paciente.nombre, (env.now+420)/60))\n",
    "                    \n",
    "                    ncamas-= 1\n",
    "                    print(chr(27)+\"[0;34m\"+'CAMAS DISPONIBLES HOSPITALIZACION', ncamas)\n",
    "                    cam_usadas.append(ncamas)\n",
    "                    yield env.process(hospital.zona_aislamiento(paciente, hospital))\n",
    "                    listaSintomas.append(paciente)\n",
    "                     \n",
    "                 \n",
    "                      \n",
    "def ejecutar_simulacion(env, num_test, tiempo_atencion, intervalo, camas, num_respiradores, camas2):\n",
    "    hospital=Hospital(env, num_test, tiempo_atencion, camas, num_respiradores, camas2)\n",
    "    # Creamos 5 llegadas de pacientes iniciales\n",
    "    \n",
    "    for i in range(1,100):\n",
    "        edad1 = random.randint(0, 14)\n",
    "        edad2 = random.randint(15, 64)\n",
    "        edad3 = random.randint(65, 80)\n",
    "        rnd = random.randint(1,100)\n",
    "        rnd2 = random.randint(1,100)\n",
    "        if rnd <=28:\n",
    "            if rnd2 <=13:\n",
    "                paciente = Paciente('Niño-%d'%(i+1),edad1,'n','f',  False)\n",
    "                env.process(llegada_paciente(env, paciente,hospital))\n",
    "                paciente = None\n",
    "                \n",
    "            elif rnd2<=15:\n",
    "                paciente = Paciente('Niño-%d'%(i+2),edad1,'n','m',  False)\n",
    "                env.process(llegada_paciente(env, paciente,hospital))\n",
    "                paciente = None\n",
    "         \n",
    "        elif rnd<=65:\n",
    "            if rnd2 <=35:\n",
    "                paciente = Paciente('Adulto-%d'%(i+1),edad2,'a','m',  False)\n",
    "                env.process(llegada_paciente(env, paciente,hospital))\n",
    "                paciente = None\n",
    "            elif rnd2<=30:\n",
    "                paciente = Paciente('Adulto-%d'%(i+2),edad2,'a','f',  False)\n",
    "                env.process(llegada_paciente(env, paciente,hospital))\n",
    "                paciente = None\n",
    "        \n",
    "        else:\n",
    "            if rnd2 <=3:\n",
    "                paciente = Paciente('Mayor-%d'%(i+1),edad3,'m','f',  False)\n",
    "                env.process(llegada_paciente(env, paciente,hospital))\n",
    "                paciente = None\n",
    "            elif rnd2<=4:\n",
    "                paciente = Paciente('Mayor-%d'%(i+2),edad3,'m','m',  False)\n",
    "                env.process(llegada_paciente(env, paciente,hospital))\n",
    "                paciente = None\n",
    "\n",
    "        \n",
    "    # Ejecutamos la simulacion\n",
    "    while True:\n",
    "        yield env.timeout(random.randint(intervalo-3, intervalo+5))\n",
    "        i+=1\n",
    "        # Mientras se atienden los pacientes generamos mas pacientes\n",
    "        edad1 = random.randint(0, 14)\n",
    "        edad2 = random.randint(15, 64)\n",
    "        edad3 = random.randint(65, 80)\n",
    "        rnd = random.randint(1,100)\n",
    "        rnd2 = random.randint(1,100)\n",
    "        if rnd <=28:\n",
    "            if rnd2 <=15:\n",
    "                paciente = Paciente('Niño-%d'%(i+1),edad1,'n','m',  False)\n",
    "            elif rnd2<=13:\n",
    "                paciente = Paciente('Niño-%d'%(i+2),edad1,'n','f',  False)\n",
    "         \n",
    "        elif rnd<=65:\n",
    "            if rnd2 <=35:\n",
    "                paciente = Paciente('Adulto-%d'%(i+1),edad2,'a','m',  False)\n",
    "            elif rnd2<=30:\n",
    "                paciente = Paciente('Adulto-%d'%(i+2),edad2,'a','f',  False)\n",
    "        \n",
    "        else:\n",
    "            if rnd2 <=4:\n",
    "                paciente = Paciente('Mayor-%d'%(i+1),edad3,'m','m',  False)\n",
    "            elif rnd2<=3:\n",
    "                paciente = Paciente('Mayor-%d'%(i+2),edad3,'m','f',  False)\n",
    "                \n",
    "\n",
    "print('Hospital')\n",
    "\n",
    "# Creamos el entorno de simulacion\n",
    "env=simpy.Environment()\n",
    "env.process(ejecutar_simulacion(env, TEST, TIEMPO_ATENCION, INTERVALO_LLEGADA, NUM_CAMAS_HOSPITALIZACION, RESPIRADORES, NUM_CAMAS_INTENSIVO))\n",
    "\n",
    "# Ejecutamos el proceso durante el tiempo de simulacion\n",
    "env.run(until = TIEMPO_SIMULACION)\n",
    "\n"
   ]
  },
  {
   "cell_type": "code",
   "execution_count": 256,
   "metadata": {},
   "outputs": [
    {
     "name": "stdout",
     "output_type": "stream",
     "text": [
      "\n",
      "\n",
      "Total Pacientes con sintomas:  18\n",
      "Detalle\n",
      "Nombre,     Edad,  Genero\n",
      "Adulto-3 ,  55 ,  m\n",
      "Adulto-79 ,  48 ,  m\n",
      "Adulto-93 ,  29 ,  m\n",
      "Adulto-69 ,  28 ,  m\n",
      "Adulto-91 ,  16 ,  m\n",
      "Adulto-90 ,  39 ,  m\n",
      "Adulto-58 ,  15 ,  m\n",
      "Mayor-15 ,  67 ,  m\n",
      "Adulto-89 ,  23 ,  m\n",
      "Adulto-86 ,  62 ,  m\n",
      "Adulto-25 ,  64 ,  m\n",
      "Adulto-97 ,  17 ,  m\n",
      "Adulto-60 ,  21 ,  m\n",
      "Adulto-81 ,  57 ,  m\n",
      "Mayor-15 ,  68 ,  f\n",
      "Adulto-83 ,  25 ,  m\n",
      "Adulto-77 ,  39 ,  m\n",
      "Adulto-94 ,  40 ,  m\n",
      "---------------------\n",
      "Total Ninos:  0\n",
      "Total Adultos:  16\n",
      "Total Mayor:  2\n",
      "\n",
      "\n",
      "Total Pacientes con Neumonia:  14\n",
      "Detalle\n",
      "Nombre,     Edad,  Genero\n",
      "Adulto-69 ,  28 ,  m\n",
      "Adulto-90 ,  39 ,  m\n",
      "Adulto-58 ,  15 ,  m\n",
      "Mayor-15 ,  67 ,  m\n",
      "Adulto-89 ,  23 ,  m\n",
      "Adulto-86 ,  62 ,  m\n",
      "Adulto-25 ,  64 ,  m\n",
      "Adulto-97 ,  17 ,  m\n",
      "Adulto-60 ,  21 ,  m\n",
      "Adulto-81 ,  57 ,  m\n",
      "Mayor-15 ,  68 ,  f\n",
      "Adulto-83 ,  25 ,  m\n",
      "Adulto-77 ,  39 ,  m\n",
      "Adulto-94 ,  40 ,  m\n",
      "---------------------\n",
      "Total Ninos:  0\n",
      "Total Adultos:  12\n",
      "Total Mayor:  2\n",
      "\n",
      "\n",
      "Total Pacientes en Cuidados Intensivos:  5\n",
      "Detalle\n",
      "Nombre,     Edad,  Genero\n",
      "Adulto-81 ,  57 ,  m\n",
      "Mayor-15 ,  68 ,  f\n",
      "Adulto-83 ,  25 ,  m\n",
      "Adulto-77 ,  39 ,  m\n",
      "Adulto-94 ,  40 ,  m\n",
      "---------------------\n",
      "Total Ninos:  0\n",
      "Total Adultos:  4\n",
      "Total Mayor:  1\n",
      "\n",
      "\n",
      "Total Pacientes Fallecidos:  3\n",
      "Detalle\n",
      "Nombre,     Edad,  Genero\n",
      "Mayor-15 ,  68 ,  f\n",
      "Adulto-83 ,  25 ,  m\n",
      "Adulto-94 ,  40 ,  m\n",
      "---------------------\n",
      "Total Ninos:  0\n",
      "Total Adultos:  2\n",
      "Total Mayor:  1\n",
      "\n",
      "\n",
      "Total Pacientes Recuperados:  12\n",
      "Detalle\n",
      "Nombre,     Edad,  Genero\n",
      "Niño-9 ,  6 ,  f\n",
      "Niño-71 ,  6 ,  f\n",
      "Niño-78 ,  9 ,  f\n",
      "Niño-87 ,  2 ,  f\n",
      "Niño-31 ,  3 ,  f\n",
      "Adulto-89 ,  23 ,  m\n",
      "Adulto-86 ,  62 ,  m\n",
      "Adulto-25 ,  64 ,  m\n",
      "Adulto-97 ,  17 ,  m\n",
      "Adulto-60 ,  21 ,  m\n",
      "Adulto-81 ,  57 ,  m\n",
      "Adulto-77 ,  39 ,  m\n",
      "---------------------\n",
      "Total Ninos:  5\n",
      "Total Adultos:  7\n",
      "Total Mayor:  0\n"
     ]
    }
   ],
   "source": [
    "ninoSintoma=[]\n",
    "adultoSintoma=[]\n",
    "mayorSintoma=[]\n",
    "print(\"\\n\")\n",
    "print(\"Total Pacientes con sintomas: \",len(listaSintomas))\n",
    "print(\"Detalle\")\n",
    "print(\"Nombre,  \",\"  Edad, \",\"Genero\") \n",
    "for paciente in listaSintomas:\n",
    "    print(paciente.nombre,\", \",paciente.edad,\", \",paciente.genero)\n",
    "    if paciente.tipo=='n':\n",
    "        ninoSintoma.append(paciente)\n",
    "        \n",
    "    elif paciente.tipo=='a':\n",
    "        adultoSintoma.append(paciente)\n",
    "    else:\n",
    "        mayorSintoma.append(paciente)\n",
    "print(\"---------------------\")        \n",
    "print(\"Total Ninos: \",len(ninoSintoma))\n",
    "print(\"Total Adultos: \",len(adultoSintoma))\n",
    "print(\"Total Mayor: \",len(mayorSintoma))\n",
    " \n",
    "ninoN=[]\n",
    "adultoN=[]\n",
    "mayorN=[]\n",
    "print(\"\\n\")\n",
    "print(\"Total Pacientes con Neumonia: \",len(listaNeumonia))\n",
    "print(\"Detalle\") \n",
    "print(\"Nombre,  \",\"  Edad, \",\"Genero\") \n",
    "for paciente in listaNeumonia:\n",
    "    print(paciente.nombre,\", \",paciente.edad,\", \",paciente.genero)\n",
    "    if paciente.tipo=='n':\n",
    "        ninoN.append(paciente)\n",
    "        \n",
    "    elif paciente.tipo=='a':\n",
    "        adultoN.append(paciente)\n",
    "    else:\n",
    "        mayorN.append(paciente)\n",
    "print(\"---------------------\")        \n",
    "print(\"Total Ninos: \",len(ninoN))\n",
    "print(\"Total Adultos: \",len(adultoN))\n",
    "print(\"Total Mayor: \",len(mayorN))\n",
    "\n",
    "ninoI=[]\n",
    "adultoI=[]\n",
    "mayorI=[]\n",
    "print(\"\\n\")\n",
    "print(\"Total Pacientes en Cuidados Intensivos: \",len(listaIntensivo))\n",
    "print(\"Detalle\") \n",
    "print(\"Nombre,  \",\"  Edad, \",\"Genero\") \n",
    "for paciente in listaIntensivo:\n",
    "    print(paciente.nombre,\", \",paciente.edad,\", \",paciente.genero)\n",
    "    if paciente.tipo=='n':\n",
    "        ninoI.append(paciente)\n",
    "        \n",
    "    elif paciente.tipo=='a':\n",
    "        adultoI.append(paciente)\n",
    "    else:\n",
    "        mayorI.append(paciente)\n",
    "print(\"---------------------\")        \n",
    "print(\"Total Ninos: \",len(ninoI))\n",
    "print(\"Total Adultos: \",len(adultoI))\n",
    "print(\"Total Mayor: \",len(mayorI))\n",
    "ninoF=[]\n",
    "adultoF=[]\n",
    "mayorF=[] \n",
    "    \n",
    "print(\"\\n\")\n",
    "print(\"Total Pacientes Fallecidos: \",len(listaFallecidos))\n",
    "print(\"Detalle\") \n",
    "print(\"Nombre,  \",\"  Edad, \",\"Genero\") \n",
    "for paciente in listaFallecidos:\n",
    "    print(paciente.nombre,\", \",paciente.edad,\", \",paciente.genero)\n",
    "    if paciente.tipo=='n':\n",
    "        ninoF.append(paciente)\n",
    "        \n",
    "    elif paciente.tipo=='a':\n",
    "        adultoF.append(paciente)\n",
    "    else:\n",
    "        mayorF.append(paciente)\n",
    "print(\"---------------------\")        \n",
    "print(\"Total Ninos: \",len(ninoF))\n",
    "print(\"Total Adultos: \",len(adultoF))\n",
    "print(\"Total Mayor: \",len(mayorF))\n",
    "ninoR=[]\n",
    "adultoR=[]\n",
    "mayorR=[] \n",
    "\n",
    "print(\"\\n\")\n",
    "print(\"Total Pacientes Recuperados: \",len(listaCurados))\n",
    "print(\"Detalle\")  \n",
    "print(\"Nombre,  \",\"  Edad, \",\"Genero\") \n",
    "for paciente in listaCurados:\n",
    "    print(paciente.nombre,\", \",paciente.edad,\", \",paciente.genero)\n",
    "    if paciente.tipo=='n':\n",
    "        ninoR.append(paciente)\n",
    "        \n",
    "    elif paciente.tipo=='a':\n",
    "        adultoR.append(paciente)\n",
    "    else:\n",
    "        mayorR.append(paciente)\n",
    "print(\"---------------------\")        \n",
    "print(\"Total Ninos: \",len(ninoR))\n",
    "print(\"Total Adultos: \",len(adultoR))\n",
    "print(\"Total Mayor: \",len(mayorR))"
   ]
  },
  {
   "cell_type": "code",
   "execution_count": 257,
   "metadata": {},
   "outputs": [
    {
     "data": {
      "image/png": "[encoded data removed]",
      "text/plain": [
       "<Figure size 432x288 with 1 Axes>"
      ]
     },
     "metadata": {
      "needs_background": "light"
     },
     "output_type": "display_data"
    }
   ],
   "source": [
    "import matplotlib.pyplot as pp\n",
    "\n",
    "%matplotlib inline\n",
    "pp.title(\"Nino Histograma de Sintomas\")\n",
    "pp.hist([ninoSintoma[i].genero for i in range(len(ninoSintoma))],bins=3,linewidth=1)\n",
    "pp.grid(True)\n"
   ]
  },
  {
   "cell_type": "code",
   "execution_count": 258,
   "metadata": {},
   "outputs": [
    {
     "data": {
      "image/png": "[encoded data removed]",
      "text/plain": [
       "<Figure size 432x288 with 1 Axes>"
      ]
     },
     "metadata": {
      "needs_background": "light"
     },
     "output_type": "display_data"
    }
   ],
   "source": [
    "pp.title(\"Adultos Histograma de Sintomas\")\n",
    "pp.hist([adultoSintoma[i].genero for i in range(len(adultoSintoma))],bins=3,linewidth=1)\n",
    "pp.grid(True)"
   ]
  },
  {
   "cell_type": "code",
   "execution_count": 259,
   "metadata": {},
   "outputs": [
    {
     "data": {
      "image/png": "[encoded data removed]",
      "text/plain": [
       "<Figure size 432x288 with 1 Axes>"
      ]
     },
     "metadata": {
      "needs_background": "light"
     },
     "output_type": "display_data"
    }
   ],
   "source": [
    "pp.title(\"Mayores Histograma de Sintomas\")\n",
    "pp.hist([mayorSintoma[i].genero for i in range(len(mayorSintoma))],bins=3,linewidth=1)\n",
    "pp.grid(True)"
   ]
  },
  {
   "cell_type": "code",
   "execution_count": 260,
   "metadata": {},
   "outputs": [
    {
     "data": {
      "image/png": "[encoded data removed]",
      "text/plain": [
       "<Figure size 432x288 with 1 Axes>"
      ]
     },
     "metadata": {
      "needs_background": "light"
     },
     "output_type": "display_data"
    }
   ],
   "source": [
    "pp.title(\"Ninos Histograma de Neumonia\")\n",
    "pp.hist([ninoN[i].genero for i in range(len(ninoN))],bins=3,linewidth=1)\n",
    "pp.grid(True)\n",
    "\n"
   ]
  },
  {
   "cell_type": "code",
   "execution_count": 261,
   "metadata": {},
   "outputs": [
    {
     "data": {
      "image/png": "[encoded data removed]",
      "text/plain": [
       "<Figure size 432x288 with 1 Axes>"
      ]
     },
     "metadata": {
      "needs_background": "light"
     },
     "output_type": "display_data"
    }
   ],
   "source": [
    "pp.title(\"Adultos Histograma de Neumonia\")\n",
    "pp.hist([adultoN[i].genero for i in range(len(adultoN))],bins=3,linewidth=1)\n",
    "pp.grid(True)\n"
   ]
  },
  {
   "cell_type": "code",
   "execution_count": 262,
   "metadata": {},
   "outputs": [
    {
     "data": {
      "image/png": "[encoded data removed]",
      "text/plain": [
       "<Figure size 432x288 with 1 Axes>"
      ]
     },
     "metadata": {
      "needs_background": "light"
     },
     "output_type": "display_data"
    }
   ],
   "source": [
    "    \n",
    "pp.title(\"Mayores Histograma de Neumonia\")\n",
    "pp.hist([mayorN[i].genero for i in range(len(mayorN))],bins=3,linewidth=1)\n",
    "pp.grid(True)"
   ]
  },
  {
   "cell_type": "code",
   "execution_count": 263,
   "metadata": {},
   "outputs": [
    {
     "data": {
      "image/png": "[encoded data removed]",
      "text/plain": [
       "<Figure size 432x288 with 1 Axes>"
      ]
     },
     "metadata": {
      "needs_background": "light"
     },
     "output_type": "display_data"
    }
   ],
   "source": [
    "pp.title(\"Ninos Histograma de Intensivo\")\n",
    "pp.hist([ninoI[i].genero for i in range(len(ninoI))],bins=3,linewidth=1)\n",
    "pp.grid(True)\n",
    "\n"
   ]
  },
  {
   "cell_type": "code",
   "execution_count": 264,
   "metadata": {},
   "outputs": [
    {
     "data": {
      "image/png": "[encoded data removed]",
      "text/plain": [
       "<Figure size 432x288 with 1 Axes>"
      ]
     },
     "metadata": {
      "needs_background": "light"
     },
     "output_type": "display_data"
    }
   ],
   "source": [
    "pp.title(\"Adultos Histograma de Intensivo\")\n",
    "pp.hist([adultoI[i].genero for i in range(len(adultoI))],bins=3,linewidth=1)\n",
    "pp.grid(True)\n",
    "    "
   ]
  },
  {
   "cell_type": "code",
   "execution_count": 265,
   "metadata": {},
   "outputs": [
    {
     "data": {
      "image/png": "[encoded data removed]",
      "text/plain": [
       "<Figure size 432x288 with 1 Axes>"
      ]
     },
     "metadata": {
      "needs_background": "light"
     },
     "output_type": "display_data"
    }
   ],
   "source": [
    "pp.title(\"Mayores Histograma de Intensivo\")\n",
    "pp.hist([mayorI[i].genero for i in range(len(mayorI))],bins=3,linewidth=1)\n",
    "pp.grid(True)"
   ]
  },
  {
   "cell_type": "code",
   "execution_count": 266,
   "metadata": {},
   "outputs": [
    {
     "data": {
      "image/png": "[encoded data removed]",
      "text/plain": [
       "<Figure size 432x288 with 1 Axes>"
      ]
     },
     "metadata": {
      "needs_background": "light"
     },
     "output_type": "display_data"
    }
   ],
   "source": [
    "pp.title(\"Ninos Histograma de Fallecidos\")\n",
    "pp.hist([ninoF[i].genero for i in range(len(ninoF))],bins=3,linewidth=1)\n",
    "pp.grid(True)\n"
   ]
  },
  {
   "cell_type": "code",
   "execution_count": 267,
   "metadata": {},
   "outputs": [
    {
     "data": {
      "image/png": "[encoded data removed]",
      "text/plain": [
       "<Figure size 432x288 with 1 Axes>"
      ]
     },
     "metadata": {
      "needs_background": "light"
     },
     "output_type": "display_data"
    }
   ],
   "source": [
    "pp.title(\"Mayores Histograma de Fallecidos\")\n",
    "pp.hist([adultoF[i].genero for i in range(len(adultoF))],bins=3,linewidth=1)\n",
    "pp.grid(True)\n",
    "    "
   ]
  },
  {
   "cell_type": "code",
   "execution_count": 268,
   "metadata": {},
   "outputs": [
    {
     "data": {
      "image/png": "[encoded data removed]",
      "text/plain": [
       "<Figure size 432x288 with 1 Axes>"
      ]
     },
     "metadata": {
      "needs_background": "light"
     },
     "output_type": "display_data"
    }
   ],
   "source": [
    "pp.title(\"Adultos Histograma de Fallecidos\")\n",
    "pp.hist([mayorF[i].genero for i in range(len(mayorF))],bins=3,linewidth=1)\n",
    "pp.grid(True)"
   ]
  },
  {
   "cell_type": "code",
   "execution_count": 269,
   "metadata": {},
   "outputs": [
    {
     "data": {
      "image/png": "[encoded data removed]",
      "text/plain": [
       "<Figure size 432x288 with 1 Axes>"
      ]
     },
     "metadata": {
      "needs_background": "light"
     },
     "output_type": "display_data"
    }
   ],
   "source": [
    "pp.title(\"Ninos Histograma de Recuperados\")\n",
    "pp.hist([ninoR[i].genero for i in range(len(ninoR))],bins=3,linewidth=1)\n",
    "pp.grid(True)"
   ]
  },
  {
   "cell_type": "code",
   "execution_count": 270,
   "metadata": {},
   "outputs": [
    {
     "data": {
      "image/png": "[encoded data removed]",
      "text/plain": [
       "<Figure size 432x288 with 1 Axes>"
      ]
     },
     "metadata": {
      "needs_background": "light"
     },
     "output_type": "display_data"
    }
   ],
   "source": [
    "pp.title(\"Adultos Histograma de Recuperados\")\n",
    "pp.hist([adultoR[i].genero for i in range(len(adultoR))],bins=3,linewidth=1)\n",
    "pp.grid(True)"
   ]
  },
  {
   "cell_type": "code",
   "execution_count": 254,
   "metadata": {},
   "outputs": [
    {
     "data": {
      "image/png": "[encoded data removed]",
      "text/plain": [
       "<Figure size 432x288 with 1 Axes>"
      ]
     },
     "metadata": {
      "needs_background": "light"
     },
     "output_type": "display_data"
    }
   ],
   "source": [
    "pp.title(\"Mayores Histograma de Recuperados\")\n",
    "pp.hist([mayorR[i].genero for i in range(len(mayorR))],bins=3,linewidth=1)\n",
    "pp.grid(True)"
   ]
  },
  {
   "cell_type": "code",
   "execution_count": null,
   "metadata": {},
   "outputs": [],
   "source": []
  },
  {
   "cell_type": "code",
   "execution_count": null,
   "metadata": {},
   "outputs": [],
   "source": []
  }
 ],
 "metadata": {
  "kernelspec": {
   "display_name": "Python 3",
   "language": "python",
   "name": "python3"
  },
  "language_info": {
   "codemirror_mode": {
    "name": "ipython",
    "version": 3
   },
   "file_extension": ".py",
   "mimetype": "text/x-python",
   "name": "python",
   "nbconvert_exporter": "python",
   "pygments_lexer": "ipython3",
   "version": "3.7.6"
  }
 },
 "nbformat": 4,
 "nbformat_minor": 4
}
